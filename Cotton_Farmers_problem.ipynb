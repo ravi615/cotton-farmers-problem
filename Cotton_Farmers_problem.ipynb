{
 "cells": [
  {
   "cell_type": "code",
   "execution_count": 1,
   "metadata": {},
   "outputs": [],
   "source": [
    "import numpy as np\n",
    "import pandas as pd\n",
    "import os\n",
    "import seaborn as sns\n",
    "import matplotlib.pyplot as plt  \n",
    "import datetime\n",
    "import warnings\n",
    "warnings.filterwarnings(\"ignore\")\n",
    "import re"
   ]
  },
  {
   "cell_type": "code",
   "execution_count": 2,
   "metadata": {},
   "outputs": [],
   "source": [
    "os.getcwd()\n",
    "os.chdir(\"D:\\\\datasets\\\\Test\")"
   ]
  },
  {
   "cell_type": "code",
   "execution_count": 3,
   "metadata": {},
   "outputs": [],
   "source": [
    "cotton_farmers_data= pd.read_csv(\"Cotton_takehome_test.csv\")"
   ]
  },
  {
   "cell_type": "code",
   "execution_count": 4,
   "metadata": {},
   "outputs": [
    {
     "data": {
      "text/plain": [
       "(100000, 8)"
      ]
     },
     "execution_count": 4,
     "metadata": {},
     "output_type": "execute_result"
    }
   ],
   "source": [
    "cotton_farmers_data.shape"
   ]
  },
  {
   "cell_type": "code",
   "execution_count": 5,
   "metadata": {},
   "outputs": [
    {
     "data": {
      "text/html": [
       "<div>\n",
       "<style scoped>\n",
       "    .dataframe tbody tr th:only-of-type {\n",
       "        vertical-align: middle;\n",
       "    }\n",
       "\n",
       "    .dataframe tbody tr th {\n",
       "        vertical-align: top;\n",
       "    }\n",
       "\n",
       "    .dataframe thead th {\n",
       "        text-align: right;\n",
       "    }\n",
       "</style>\n",
       "<table border=\"1\" class=\"dataframe\">\n",
       "  <thead>\n",
       "    <tr style=\"text-align: right;\">\n",
       "      <th></th>\n",
       "      <th>crop</th>\n",
       "      <th>created_on</th>\n",
       "      <th>query_type</th>\n",
       "      <th>query_text_raw</th>\n",
       "      <th>state_name</th>\n",
       "      <th>district_name</th>\n",
       "      <th>GPS</th>\n",
       "      <th>7d_rainfall</th>\n",
       "    </tr>\n",
       "  </thead>\n",
       "  <tbody>\n",
       "    <tr>\n",
       "      <th>0</th>\n",
       "      <td>cotton</td>\n",
       "      <td>1/5/15 19:14</td>\n",
       "      <td>plant protection</td>\n",
       "      <td>how to control thirips in cotton crop ?</td>\n",
       "      <td>haryana</td>\n",
       "      <td>fatehabad</td>\n",
       "      <td>29.54-75.71</td>\n",
       "      <td>65.495691</td>\n",
       "    </tr>\n",
       "    <tr>\n",
       "      <th>1</th>\n",
       "      <td>cotton</td>\n",
       "      <td>10/11/16 09:35</td>\n",
       "      <td>plant protection</td>\n",
       "      <td>larvae sucking pests</td>\n",
       "      <td>gujarat</td>\n",
       "      <td>ahmadabad</td>\n",
       "      <td>22.38-71.98</td>\n",
       "      <td>16.142093</td>\n",
       "    </tr>\n",
       "    <tr>\n",
       "      <th>2</th>\n",
       "      <td>cotton</td>\n",
       "      <td>24/5/16 20:20</td>\n",
       "      <td>varieties</td>\n",
       "      <td>improved varieties of bt cotton ?</td>\n",
       "      <td>haryana</td>\n",
       "      <td>sonepat</td>\n",
       "      <td>28.99-77.02</td>\n",
       "      <td>108.803134</td>\n",
       "    </tr>\n",
       "    <tr>\n",
       "      <th>3</th>\n",
       "      <td>cotton</td>\n",
       "      <td>26/10/17 00:00</td>\n",
       "      <td>agriculture mechanization</td>\n",
       "      <td>reddning of cotton ?</td>\n",
       "      <td>maharashtra</td>\n",
       "      <td>ahmadnagar</td>\n",
       "      <td>19.23-74.65</td>\n",
       "      <td>82.461657</td>\n",
       "    </tr>\n",
       "    <tr>\n",
       "      <th>4</th>\n",
       "      <td>cotton</td>\n",
       "      <td>29/5/17 13:25</td>\n",
       "      <td>nutrient management</td>\n",
       "      <td>tell me nutrient management ?</td>\n",
       "      <td>rajasthan</td>\n",
       "      <td>nagaur</td>\n",
       "      <td>27.15-74.86</td>\n",
       "      <td>44.846969</td>\n",
       "    </tr>\n",
       "  </tbody>\n",
       "</table>\n",
       "</div>"
      ],
      "text/plain": [
       "     crop      created_on                 query_type  \\\n",
       "0  cotton    1/5/15 19:14           plant protection   \n",
       "1  cotton  10/11/16 09:35           plant protection   \n",
       "2  cotton   24/5/16 20:20                  varieties   \n",
       "3  cotton  26/10/17 00:00  agriculture mechanization   \n",
       "4  cotton   29/5/17 13:25        nutrient management   \n",
       "\n",
       "                            query_text_raw   state_name district_name  \\\n",
       "0  how to control thirips in cotton crop ?      haryana     fatehabad   \n",
       "1                     larvae sucking pests      gujarat     ahmadabad   \n",
       "2        improved varieties of bt cotton ?      haryana       sonepat   \n",
       "3                     reddning of cotton ?  maharashtra    ahmadnagar   \n",
       "4            tell me nutrient management ?    rajasthan        nagaur   \n",
       "\n",
       "           GPS  7d_rainfall  \n",
       "0  29.54-75.71    65.495691  \n",
       "1  22.38-71.98    16.142093  \n",
       "2  28.99-77.02   108.803134  \n",
       "3  19.23-74.65    82.461657  \n",
       "4  27.15-74.86    44.846969  "
      ]
     },
     "execution_count": 5,
     "metadata": {},
     "output_type": "execute_result"
    }
   ],
   "source": [
    "cotton_farmers_data.head()"
   ]
  },
  {
   "cell_type": "code",
   "execution_count": 6,
   "metadata": {},
   "outputs": [
    {
     "data": {
      "text/plain": [
       "Index(['crop', 'created_on', 'query_type', 'query_text_raw', 'state_name',\n",
       "       'district_name', 'GPS', '7d_rainfall'],\n",
       "      dtype='object')"
      ]
     },
     "execution_count": 6,
     "metadata": {},
     "output_type": "execute_result"
    }
   ],
   "source": [
    "#checking the target field and others\n",
    "cotton_farmers_data.columns"
   ]
  },
  {
   "cell_type": "code",
   "execution_count": 7,
   "metadata": {},
   "outputs": [
    {
     "data": {
      "text/plain": [
       "plant protection                    46974\n",
       "fertilizer use and availability     10481\n",
       "market information                   9514\n",
       "varieties                            5660\n",
       "cultural practices                   5571\n",
       "nutrient management                  5007\n",
       "biopesticides and biofertilizers     4903\n",
       "seeds                                4807\n",
       "field preparation                    2615\n",
       "agriculture mechanization            1958\n",
       "weed management                       727\n",
       "government schemes                    410\n",
       "sowing time and weather               339\n",
       "water management                      229\n",
       "soil testing                          177\n",
       "crop insurance                        108\n",
       "bio                                   102\n",
       "training and exposure visits           44\n",
       "credit                                 43\n",
       "organic farming                        31\n",
       "power, roads etc.                      29\n",
       "seeds and planting material            24\n",
       "post harvest preservation              18\n",
       "storage                                 9\n",
       "soil health card                        6\n",
       "landscaping                             5\n",
       "nursery management                      3\n",
       "Name: query_type, dtype: int64"
      ]
     },
     "execution_count": 7,
     "metadata": {},
     "output_type": "execute_result"
    }
   ],
   "source": [
    "cotton_farmers_data.query_type.value_counts()"
   ]
  },
  {
   "cell_type": "code",
   "execution_count": 8,
   "metadata": {},
   "outputs": [
    {
     "data": {
      "text/plain": [
       "<matplotlib.axes._subplots.AxesSubplot at 0x2433de295c0>"
      ]
     },
     "execution_count": 8,
     "metadata": {},
     "output_type": "execute_result"
    },
    {
     "data": {
      "image/png": "[encoded data removed]",
      "text/plain": [
       "<Figure size 432x288 with 1 Axes>"
      ]
     },
     "metadata": {},
     "output_type": "display_data"
    }
   ],
   "source": [
    "cotton_farmers_data.query_type.value_counts().plot.bar()"
   ]
  },
  {
   "cell_type": "code",
   "execution_count": 9,
   "metadata": {},
   "outputs": [
    {
     "data": {
      "text/html": [
       "<div>\n",
       "<style scoped>\n",
       "    .dataframe tbody tr th:only-of-type {\n",
       "        vertical-align: middle;\n",
       "    }\n",
       "\n",
       "    .dataframe tbody tr th {\n",
       "        vertical-align: top;\n",
       "    }\n",
       "\n",
       "    .dataframe thead th {\n",
       "        text-align: right;\n",
       "    }\n",
       "</style>\n",
       "<table border=\"1\" class=\"dataframe\">\n",
       "  <thead>\n",
       "    <tr style=\"text-align: right;\">\n",
       "      <th></th>\n",
       "      <th>crop</th>\n",
       "      <th>created_on</th>\n",
       "      <th>query_type</th>\n",
       "      <th>query_text_raw</th>\n",
       "      <th>state_name</th>\n",
       "      <th>district_name</th>\n",
       "      <th>GPS</th>\n",
       "      <th>7d_rainfall</th>\n",
       "    </tr>\n",
       "  </thead>\n",
       "  <tbody>\n",
       "    <tr>\n",
       "      <th>0</th>\n",
       "      <td>cotton</td>\n",
       "      <td>1/5/15 19:14</td>\n",
       "      <td>plant protection</td>\n",
       "      <td>how to control thirips in cotton crop ?</td>\n",
       "      <td>haryana</td>\n",
       "      <td>fatehabad</td>\n",
       "      <td>29.54-75.71</td>\n",
       "      <td>65.495691</td>\n",
       "    </tr>\n",
       "    <tr>\n",
       "      <th>1</th>\n",
       "      <td>cotton</td>\n",
       "      <td>10/11/16 09:35</td>\n",
       "      <td>plant protection</td>\n",
       "      <td>larvae sucking pests</td>\n",
       "      <td>gujarat</td>\n",
       "      <td>ahmadabad</td>\n",
       "      <td>22.38-71.98</td>\n",
       "      <td>16.142093</td>\n",
       "    </tr>\n",
       "    <tr>\n",
       "      <th>2</th>\n",
       "      <td>cotton</td>\n",
       "      <td>24/5/16 20:20</td>\n",
       "      <td>varieties</td>\n",
       "      <td>improved varieties of bt cotton ?</td>\n",
       "      <td>haryana</td>\n",
       "      <td>sonepat</td>\n",
       "      <td>28.99-77.02</td>\n",
       "      <td>108.803134</td>\n",
       "    </tr>\n",
       "    <tr>\n",
       "      <th>3</th>\n",
       "      <td>cotton</td>\n",
       "      <td>26/10/17 00:00</td>\n",
       "      <td>agriculture mechanization</td>\n",
       "      <td>reddning of cotton ?</td>\n",
       "      <td>maharashtra</td>\n",
       "      <td>ahmadnagar</td>\n",
       "      <td>19.23-74.65</td>\n",
       "      <td>82.461657</td>\n",
       "    </tr>\n",
       "    <tr>\n",
       "      <th>4</th>\n",
       "      <td>cotton</td>\n",
       "      <td>29/5/17 13:25</td>\n",
       "      <td>nutrient management</td>\n",
       "      <td>tell me nutrient management ?</td>\n",
       "      <td>rajasthan</td>\n",
       "      <td>nagaur</td>\n",
       "      <td>27.15-74.86</td>\n",
       "      <td>44.846969</td>\n",
       "    </tr>\n",
       "  </tbody>\n",
       "</table>\n",
       "</div>"
      ],
      "text/plain": [
       "     crop      created_on                 query_type  \\\n",
       "0  cotton    1/5/15 19:14           plant protection   \n",
       "1  cotton  10/11/16 09:35           plant protection   \n",
       "2  cotton   24/5/16 20:20                  varieties   \n",
       "3  cotton  26/10/17 00:00  agriculture mechanization   \n",
       "4  cotton   29/5/17 13:25        nutrient management   \n",
       "\n",
       "                            query_text_raw   state_name district_name  \\\n",
       "0  how to control thirips in cotton crop ?      haryana     fatehabad   \n",
       "1                     larvae sucking pests      gujarat     ahmadabad   \n",
       "2        improved varieties of bt cotton ?      haryana       sonepat   \n",
       "3                     reddning of cotton ?  maharashtra    ahmadnagar   \n",
       "4            tell me nutrient management ?    rajasthan        nagaur   \n",
       "\n",
       "           GPS  7d_rainfall  \n",
       "0  29.54-75.71    65.495691  \n",
       "1  22.38-71.98    16.142093  \n",
       "2  28.99-77.02   108.803134  \n",
       "3  19.23-74.65    82.461657  \n",
       "4  27.15-74.86    44.846969  "
      ]
     },
     "execution_count": 9,
     "metadata": {},
     "output_type": "execute_result"
    }
   ],
   "source": [
    "cotton_farmers_data.head()"
   ]
  },
  {
   "cell_type": "code",
   "execution_count": 10,
   "metadata": {},
   "outputs": [
    {
     "data": {
      "text/plain": [
       "crop                14\n",
       "created_on          10\n",
       "query_type         206\n",
       "query_text_raw      10\n",
       "state_name           7\n",
       "district_name        3\n",
       "GPS               3144\n",
       "7d_rainfall         11\n",
       "dtype: int64"
      ]
     },
     "execution_count": 10,
     "metadata": {},
     "output_type": "execute_result"
    }
   ],
   "source": [
    "#checking the missing values \n",
    "cotton_farmers_data.isnull().sum()"
   ]
  },
  {
   "cell_type": "code",
   "execution_count": 11,
   "metadata": {},
   "outputs": [],
   "source": [
    "cotton_farmers_data2=cotton_farmers_data.copy()"
   ]
  },
  {
   "cell_type": "code",
   "execution_count": 12,
   "metadata": {},
   "outputs": [],
   "source": [
    "#droping na values for visualization purpose \n",
    "cotton_farmers_data.dropna(inplace=True)"
   ]
  },
  {
   "cell_type": "code",
   "execution_count": 13,
   "metadata": {},
   "outputs": [
    {
     "data": {
      "text/plain": [
       "crop              0\n",
       "created_on        0\n",
       "query_type        0\n",
       "query_text_raw    0\n",
       "state_name        0\n",
       "district_name     0\n",
       "GPS               0\n",
       "7d_rainfall       0\n",
       "dtype: int64"
      ]
     },
     "execution_count": 13,
     "metadata": {},
     "output_type": "execute_result"
    }
   ],
   "source": [
    "cotton_farmers_data.isnull().sum()"
   ]
  },
  {
   "cell_type": "code",
   "execution_count": 14,
   "metadata": {},
   "outputs": [],
   "source": [
    "## extracting year, month and date from date-time column\n",
    "cotton_farmers_data['date'] = pd.to_datetime(cotton_farmers_data['created_on'], errors='coerce')\n",
    "cotton_farmers_data['year'] = pd.DatetimeIndex(cotton_farmers_data['created_on']).year\n",
    "cotton_farmers_data['month'] = pd.DatetimeIndex(cotton_farmers_data['created_on']).month\n",
    "cotton_farmers_data['day'] = pd.DatetimeIndex(cotton_farmers_data['created_on']).day"
   ]
  },
  {
   "cell_type": "code",
   "execution_count": 15,
   "metadata": {},
   "outputs": [
    {
     "data": {
      "text/html": [
       "<div>\n",
       "<style scoped>\n",
       "    .dataframe tbody tr th:only-of-type {\n",
       "        vertical-align: middle;\n",
       "    }\n",
       "\n",
       "    .dataframe tbody tr th {\n",
       "        vertical-align: top;\n",
       "    }\n",
       "\n",
       "    .dataframe thead th {\n",
       "        text-align: right;\n",
       "    }\n",
       "</style>\n",
       "<table border=\"1\" class=\"dataframe\">\n",
       "  <thead>\n",
       "    <tr style=\"text-align: right;\">\n",
       "      <th></th>\n",
       "      <th>crop</th>\n",
       "      <th>created_on</th>\n",
       "      <th>query_type</th>\n",
       "      <th>query_text_raw</th>\n",
       "      <th>state_name</th>\n",
       "      <th>district_name</th>\n",
       "      <th>GPS</th>\n",
       "      <th>7d_rainfall</th>\n",
       "      <th>date</th>\n",
       "      <th>year</th>\n",
       "      <th>month</th>\n",
       "      <th>day</th>\n",
       "    </tr>\n",
       "  </thead>\n",
       "  <tbody>\n",
       "    <tr>\n",
       "      <th>22065</th>\n",
       "      <td>cotton</td>\n",
       "      <td>1/5/10 11:43</td>\n",
       "      <td>fertilizer use and availability</td>\n",
       "      <td>ask about fertiliser in cotton</td>\n",
       "      <td>gujarat</td>\n",
       "      <td>anand</td>\n",
       "      <td>22.56-72.93</td>\n",
       "      <td>59.084406</td>\n",
       "      <td>2010-01-05 11:43:00</td>\n",
       "      <td>2010</td>\n",
       "      <td>1</td>\n",
       "      <td>5</td>\n",
       "    </tr>\n",
       "    <tr>\n",
       "      <th>47000</th>\n",
       "      <td>cotton</td>\n",
       "      <td>1/6/10 10:14</td>\n",
       "      <td>water management</td>\n",
       "      <td>tell me first irrigation in bt cotton</td>\n",
       "      <td>rajasthan</td>\n",
       "      <td>ganganagar</td>\n",
       "      <td>29.9-73.88</td>\n",
       "      <td>78.211623</td>\n",
       "      <td>2010-01-06 10:14:00</td>\n",
       "      <td>2010</td>\n",
       "      <td>1</td>\n",
       "      <td>6</td>\n",
       "    </tr>\n",
       "    <tr>\n",
       "      <th>10763</th>\n",
       "      <td>cotton</td>\n",
       "      <td>1/7/10 12:09</td>\n",
       "      <td>fertilizer use and availability</td>\n",
       "      <td>ask about fertilizer in cotton</td>\n",
       "      <td>gujarat</td>\n",
       "      <td>junagadh</td>\n",
       "      <td>21.52-70.46</td>\n",
       "      <td>55.656492</td>\n",
       "      <td>2010-01-07 12:09:00</td>\n",
       "      <td>2010</td>\n",
       "      <td>1</td>\n",
       "      <td>7</td>\n",
       "    </tr>\n",
       "    <tr>\n",
       "      <th>15869</th>\n",
       "      <td>cotton</td>\n",
       "      <td>1/7/10 16:59</td>\n",
       "      <td>fertilizer use and availability</td>\n",
       "      <td>asking about fertiizer dose of cotton.</td>\n",
       "      <td>gujarat</td>\n",
       "      <td>narmada</td>\n",
       "      <td>21.75-72.17</td>\n",
       "      <td>68.562876</td>\n",
       "      <td>2010-01-07 16:59:00</td>\n",
       "      <td>2010</td>\n",
       "      <td>1</td>\n",
       "      <td>7</td>\n",
       "    </tr>\n",
       "    <tr>\n",
       "      <th>11680</th>\n",
       "      <td>cotton</td>\n",
       "      <td>1/8/10 18:47</td>\n",
       "      <td>fertilizer use and availability</td>\n",
       "      <td>ask about the fertilizer in cotton.</td>\n",
       "      <td>gujarat</td>\n",
       "      <td>rajkot</td>\n",
       "      <td>22.3-70.8</td>\n",
       "      <td>66.695495</td>\n",
       "      <td>2010-01-08 18:47:00</td>\n",
       "      <td>2010</td>\n",
       "      <td>1</td>\n",
       "      <td>8</td>\n",
       "    </tr>\n",
       "  </tbody>\n",
       "</table>\n",
       "</div>"
      ],
      "text/plain": [
       "         crop    created_on                       query_type  \\\n",
       "22065  cotton  1/5/10 11:43  fertilizer use and availability   \n",
       "47000  cotton  1/6/10 10:14                 water management   \n",
       "10763  cotton  1/7/10 12:09  fertilizer use and availability   \n",
       "15869  cotton  1/7/10 16:59  fertilizer use and availability   \n",
       "11680  cotton  1/8/10 18:47  fertilizer use and availability   \n",
       "\n",
       "                               query_text_raw state_name district_name  \\\n",
       "22065          ask about fertiliser in cotton    gujarat         anand   \n",
       "47000   tell me first irrigation in bt cotton  rajasthan    ganganagar   \n",
       "10763          ask about fertilizer in cotton    gujarat      junagadh   \n",
       "15869  asking about fertiizer dose of cotton.    gujarat       narmada   \n",
       "11680     ask about the fertilizer in cotton.    gujarat        rajkot   \n",
       "\n",
       "               GPS  7d_rainfall                date  year  month  day  \n",
       "22065  22.56-72.93    59.084406 2010-01-05 11:43:00  2010      1    5  \n",
       "47000   29.9-73.88    78.211623 2010-01-06 10:14:00  2010      1    6  \n",
       "10763  21.52-70.46    55.656492 2010-01-07 12:09:00  2010      1    7  \n",
       "15869  21.75-72.17    68.562876 2010-01-07 16:59:00  2010      1    7  \n",
       "11680    22.3-70.8    66.695495 2010-01-08 18:47:00  2010      1    8  "
      ]
     },
     "execution_count": 15,
     "metadata": {},
     "output_type": "execute_result"
    }
   ],
   "source": [
    "#sorting the date column\n",
    "cotton_farmers_data=cotton_farmers_data.sort_values(['year', 'month', 'day', 'state_name', 'district_name'])\n",
    "\n",
    "cotton_farmers_data.head()"
   ]
  },
  {
   "cell_type": "code",
   "execution_count": 16,
   "metadata": {},
   "outputs": [
    {
     "name": "stdout",
     "output_type": "stream",
     "text": [
      "         crop      created_on                       query_type  \\\n",
      "87735  cotton  30/10/10 17:20  fertilizer use and availability   \n",
      "59780  cotton   22/8/11 16:15                 plant protection   \n",
      "95168  cotton    3/5/13 16:59                 plant protection   \n",
      "27479  cotton    3/6/13 18:30                field preparation   \n",
      "88052  cotton    3/7/13 12:45  fertilizer use and availability   \n",
      "...       ...             ...                              ...   \n",
      "47837  cotton   31/1/19 00:00               market information   \n",
      "22358  cotton   13/2/19 00:00               market information   \n",
      "99960  cotton   24/2/19 00:00               market information   \n",
      "70136  cotton    9/1/19 15:52                   crop insurance   \n",
      "52412  cotton   11/2/19 00:00               market information   \n",
      "\n",
      "                                   query_text_raw      state_name  \\\n",
      "87735                  control of mgso4 in cotton  andhra pradesh   \n",
      "59780                    stunted growth of cotton     maharashtra   \n",
      "95168                                seed quality     maharashtra   \n",
      "27479                    ask for cotton varieties         gujarat   \n",
      "88052                      fertilizer for spray ?     maharashtra   \n",
      "...                                           ...             ...   \n",
      "47837                     market rate of cotton ?     maharashtra   \n",
      "22358  farmer asked about market rate of cotton ?     maharashtra   \n",
      "99960  farmer asked about market rate of cotton ?     maharashtra   \n",
      "70136   information regarding to crop insurance ?         haryana   \n",
      "52412  farmer asked about market rate of cotton ?     maharashtra   \n",
      "\n",
      "      district_name          GPS  7d_rainfall                date  year  \\\n",
      "87735       missing  15.91-79.74    78.852821 2010-10-30 17:20:00  2010   \n",
      "59780         jalna  19.83-75.88    81.662231 2011-08-22 16:15:00  2011   \n",
      "95168         latur  18.52-76.87    39.053008 2013-03-05 16:59:00  2013   \n",
      "27479   gandhinagar  23.43-72.66    52.464209 2013-03-06 18:30:00  2013   \n",
      "88052      parbhani  19.26-76.78    87.423921 2013-03-07 12:45:00  2013   \n",
      "...             ...          ...          ...                 ...   ...   \n",
      "47837      yevatmal  20.39-78.12     1.135946 2019-01-31 00:00:00  2019   \n",
      "22358       buldana   20.51-76.4     0.308540 2019-02-13 00:00:00  2019   \n",
      "99960       jalgaon  20.94-75.49     1.884831 2019-02-24 00:00:00  2019   \n",
      "70136       bhiwani   28.43-75.8    67.656031 2019-09-01 15:52:00  2019   \n",
      "52412        nanded  19.12-77.62     1.356195 2019-11-02 00:00:00  2019   \n",
      "\n",
      "       month  day  \n",
      "87735     10   30  \n",
      "59780      8   22  \n",
      "95168      3    5  \n",
      "27479      3    6  \n",
      "88052      3    7  \n",
      "...      ...  ...  \n",
      "47837      1   31  \n",
      "22358      2   13  \n",
      "99960      2   24  \n",
      "70136      9    1  \n",
      "52412     11    2  \n",
      "\n",
      "[353 rows x 12 columns]\n"
     ]
    }
   ],
   "source": [
    "#Check if there are duplicates first by ticker, cik and filing_Date\n",
    "duplicate_bool = cotton_farmers_data.duplicated(subset=['created_on','state_name', 'district_name', 'query_type' , 'query_text_raw'], keep='first')\n",
    "duplicate = cotton_farmers_data.loc[duplicate_bool == True]\n",
    "print(duplicate)"
   ]
  },
  {
   "cell_type": "markdown",
   "metadata": {},
   "source": [
    "There are 353 duplicate records at Call DateTimestamp, State and District, Query type and Query_raw_text.\n",
    "It could be possible that multiple farmers had similar reason to call at the same time. Hence ignoring the duplicates and no action taken"
   ]
  },
  {
   "cell_type": "code",
   "execution_count": 17,
   "metadata": {
    "scrolled": true
   },
   "outputs": [
    {
     "data": {
      "text/html": [
       "<div>\n",
       "<style scoped>\n",
       "    .dataframe tbody tr th:only-of-type {\n",
       "        vertical-align: middle;\n",
       "    }\n",
       "\n",
       "    .dataframe tbody tr th {\n",
       "        vertical-align: top;\n",
       "    }\n",
       "\n",
       "    .dataframe thead th {\n",
       "        text-align: right;\n",
       "    }\n",
       "</style>\n",
       "<table border=\"1\" class=\"dataframe\">\n",
       "  <thead>\n",
       "    <tr style=\"text-align: right;\">\n",
       "      <th>month</th>\n",
       "      <th>1</th>\n",
       "      <th>2</th>\n",
       "      <th>3</th>\n",
       "      <th>4</th>\n",
       "      <th>5</th>\n",
       "      <th>6</th>\n",
       "      <th>7</th>\n",
       "      <th>8</th>\n",
       "      <th>9</th>\n",
       "      <th>10</th>\n",
       "      <th>11</th>\n",
       "      <th>12</th>\n",
       "      <th>All</th>\n",
       "    </tr>\n",
       "    <tr>\n",
       "      <th>query_type</th>\n",
       "      <th></th>\n",
       "      <th></th>\n",
       "      <th></th>\n",
       "      <th></th>\n",
       "      <th></th>\n",
       "      <th></th>\n",
       "      <th></th>\n",
       "      <th></th>\n",
       "      <th></th>\n",
       "      <th></th>\n",
       "      <th></th>\n",
       "      <th></th>\n",
       "      <th></th>\n",
       "    </tr>\n",
       "  </thead>\n",
       "  <tbody>\n",
       "    <tr>\n",
       "      <th>agriculture mechanization</th>\n",
       "      <td>86</td>\n",
       "      <td>64</td>\n",
       "      <td>62</td>\n",
       "      <td>114</td>\n",
       "      <td>177</td>\n",
       "      <td>163</td>\n",
       "      <td>246</td>\n",
       "      <td>341</td>\n",
       "      <td>330</td>\n",
       "      <td>170</td>\n",
       "      <td>91</td>\n",
       "      <td>87</td>\n",
       "      <td>1931</td>\n",
       "    </tr>\n",
       "    <tr>\n",
       "      <th>bio</th>\n",
       "      <td>5</td>\n",
       "      <td>1</td>\n",
       "      <td>3</td>\n",
       "      <td>5</td>\n",
       "      <td>3</td>\n",
       "      <td>3</td>\n",
       "      <td>2</td>\n",
       "      <td>2</td>\n",
       "      <td>15</td>\n",
       "      <td>27</td>\n",
       "      <td>24</td>\n",
       "      <td>12</td>\n",
       "      <td>102</td>\n",
       "    </tr>\n",
       "    <tr>\n",
       "      <th>biopesticides and biofertilizers</th>\n",
       "      <td>151</td>\n",
       "      <td>150</td>\n",
       "      <td>168</td>\n",
       "      <td>262</td>\n",
       "      <td>403</td>\n",
       "      <td>348</td>\n",
       "      <td>948</td>\n",
       "      <td>1200</td>\n",
       "      <td>624</td>\n",
       "      <td>227</td>\n",
       "      <td>215</td>\n",
       "      <td>156</td>\n",
       "      <td>4852</td>\n",
       "    </tr>\n",
       "    <tr>\n",
       "      <th>credit</th>\n",
       "      <td>1</td>\n",
       "      <td>1</td>\n",
       "      <td>2</td>\n",
       "      <td>4</td>\n",
       "      <td>7</td>\n",
       "      <td>2</td>\n",
       "      <td>3</td>\n",
       "      <td>5</td>\n",
       "      <td>5</td>\n",
       "      <td>2</td>\n",
       "      <td>3</td>\n",
       "      <td>1</td>\n",
       "      <td>36</td>\n",
       "    </tr>\n",
       "    <tr>\n",
       "      <th>crop insurance</th>\n",
       "      <td>1</td>\n",
       "      <td>3</td>\n",
       "      <td>2</td>\n",
       "      <td>9</td>\n",
       "      <td>8</td>\n",
       "      <td>9</td>\n",
       "      <td>22</td>\n",
       "      <td>12</td>\n",
       "      <td>11</td>\n",
       "      <td>7</td>\n",
       "      <td>18</td>\n",
       "      <td>4</td>\n",
       "      <td>106</td>\n",
       "    </tr>\n",
       "    <tr>\n",
       "      <th>cultural practices</th>\n",
       "      <td>237</td>\n",
       "      <td>212</td>\n",
       "      <td>235</td>\n",
       "      <td>487</td>\n",
       "      <td>957</td>\n",
       "      <td>641</td>\n",
       "      <td>611</td>\n",
       "      <td>681</td>\n",
       "      <td>495</td>\n",
       "      <td>351</td>\n",
       "      <td>271</td>\n",
       "      <td>212</td>\n",
       "      <td>5390</td>\n",
       "    </tr>\n",
       "    <tr>\n",
       "      <th>fertilizer use and availability</th>\n",
       "      <td>420</td>\n",
       "      <td>422</td>\n",
       "      <td>423</td>\n",
       "      <td>563</td>\n",
       "      <td>683</td>\n",
       "      <td>1273</td>\n",
       "      <td>1652</td>\n",
       "      <td>1542</td>\n",
       "      <td>1273</td>\n",
       "      <td>866</td>\n",
       "      <td>590</td>\n",
       "      <td>490</td>\n",
       "      <td>10197</td>\n",
       "    </tr>\n",
       "    <tr>\n",
       "      <th>field preparation</th>\n",
       "      <td>121</td>\n",
       "      <td>121</td>\n",
       "      <td>135</td>\n",
       "      <td>271</td>\n",
       "      <td>335</td>\n",
       "      <td>240</td>\n",
       "      <td>301</td>\n",
       "      <td>290</td>\n",
       "      <td>292</td>\n",
       "      <td>155</td>\n",
       "      <td>129</td>\n",
       "      <td>125</td>\n",
       "      <td>2515</td>\n",
       "    </tr>\n",
       "    <tr>\n",
       "      <th>government schemes</th>\n",
       "      <td>26</td>\n",
       "      <td>18</td>\n",
       "      <td>19</td>\n",
       "      <td>43</td>\n",
       "      <td>57</td>\n",
       "      <td>32</td>\n",
       "      <td>32</td>\n",
       "      <td>30</td>\n",
       "      <td>46</td>\n",
       "      <td>27</td>\n",
       "      <td>36</td>\n",
       "      <td>37</td>\n",
       "      <td>403</td>\n",
       "    </tr>\n",
       "    <tr>\n",
       "      <th>landscaping</th>\n",
       "      <td>2</td>\n",
       "      <td>1</td>\n",
       "      <td>0</td>\n",
       "      <td>0</td>\n",
       "      <td>0</td>\n",
       "      <td>0</td>\n",
       "      <td>0</td>\n",
       "      <td>0</td>\n",
       "      <td>2</td>\n",
       "      <td>0</td>\n",
       "      <td>0</td>\n",
       "      <td>0</td>\n",
       "      <td>5</td>\n",
       "    </tr>\n",
       "    <tr>\n",
       "      <th>market information</th>\n",
       "      <td>1404</td>\n",
       "      <td>1064</td>\n",
       "      <td>723</td>\n",
       "      <td>924</td>\n",
       "      <td>574</td>\n",
       "      <td>472</td>\n",
       "      <td>446</td>\n",
       "      <td>395</td>\n",
       "      <td>423</td>\n",
       "      <td>753</td>\n",
       "      <td>838</td>\n",
       "      <td>1416</td>\n",
       "      <td>9432</td>\n",
       "    </tr>\n",
       "    <tr>\n",
       "      <th>nursery management</th>\n",
       "      <td>3</td>\n",
       "      <td>0</td>\n",
       "      <td>0</td>\n",
       "      <td>0</td>\n",
       "      <td>0</td>\n",
       "      <td>0</td>\n",
       "      <td>0</td>\n",
       "      <td>0</td>\n",
       "      <td>0</td>\n",
       "      <td>0</td>\n",
       "      <td>0</td>\n",
       "      <td>0</td>\n",
       "      <td>3</td>\n",
       "    </tr>\n",
       "    <tr>\n",
       "      <th>nutrient management</th>\n",
       "      <td>229</td>\n",
       "      <td>226</td>\n",
       "      <td>247</td>\n",
       "      <td>284</td>\n",
       "      <td>286</td>\n",
       "      <td>372</td>\n",
       "      <td>594</td>\n",
       "      <td>893</td>\n",
       "      <td>733</td>\n",
       "      <td>453</td>\n",
       "      <td>348</td>\n",
       "      <td>268</td>\n",
       "      <td>4933</td>\n",
       "    </tr>\n",
       "    <tr>\n",
       "      <th>organic farming</th>\n",
       "      <td>2</td>\n",
       "      <td>2</td>\n",
       "      <td>2</td>\n",
       "      <td>3</td>\n",
       "      <td>6</td>\n",
       "      <td>0</td>\n",
       "      <td>3</td>\n",
       "      <td>1</td>\n",
       "      <td>5</td>\n",
       "      <td>5</td>\n",
       "      <td>1</td>\n",
       "      <td>1</td>\n",
       "      <td>31</td>\n",
       "    </tr>\n",
       "    <tr>\n",
       "      <th>plant protection</th>\n",
       "      <td>1826</td>\n",
       "      <td>1650</td>\n",
       "      <td>1638</td>\n",
       "      <td>2015</td>\n",
       "      <td>2599</td>\n",
       "      <td>3046</td>\n",
       "      <td>6127</td>\n",
       "      <td>9338</td>\n",
       "      <td>8241</td>\n",
       "      <td>3578</td>\n",
       "      <td>2773</td>\n",
       "      <td>2059</td>\n",
       "      <td>44890</td>\n",
       "    </tr>\n",
       "    <tr>\n",
       "      <th>post harvest preservation</th>\n",
       "      <td>1</td>\n",
       "      <td>1</td>\n",
       "      <td>0</td>\n",
       "      <td>1</td>\n",
       "      <td>1</td>\n",
       "      <td>0</td>\n",
       "      <td>2</td>\n",
       "      <td>2</td>\n",
       "      <td>1</td>\n",
       "      <td>2</td>\n",
       "      <td>2</td>\n",
       "      <td>4</td>\n",
       "      <td>17</td>\n",
       "    </tr>\n",
       "    <tr>\n",
       "      <th>power, roads etc.</th>\n",
       "      <td>1</td>\n",
       "      <td>2</td>\n",
       "      <td>0</td>\n",
       "      <td>3</td>\n",
       "      <td>8</td>\n",
       "      <td>5</td>\n",
       "      <td>4</td>\n",
       "      <td>4</td>\n",
       "      <td>1</td>\n",
       "      <td>0</td>\n",
       "      <td>1</td>\n",
       "      <td>0</td>\n",
       "      <td>29</td>\n",
       "    </tr>\n",
       "    <tr>\n",
       "      <th>seeds</th>\n",
       "      <td>164</td>\n",
       "      <td>205</td>\n",
       "      <td>254</td>\n",
       "      <td>986</td>\n",
       "      <td>1517</td>\n",
       "      <td>494</td>\n",
       "      <td>208</td>\n",
       "      <td>181</td>\n",
       "      <td>172</td>\n",
       "      <td>176</td>\n",
       "      <td>150</td>\n",
       "      <td>154</td>\n",
       "      <td>4661</td>\n",
       "    </tr>\n",
       "    <tr>\n",
       "      <th>seeds and planting material</th>\n",
       "      <td>4</td>\n",
       "      <td>4</td>\n",
       "      <td>3</td>\n",
       "      <td>1</td>\n",
       "      <td>1</td>\n",
       "      <td>1</td>\n",
       "      <td>1</td>\n",
       "      <td>1</td>\n",
       "      <td>8</td>\n",
       "      <td>0</td>\n",
       "      <td>0</td>\n",
       "      <td>0</td>\n",
       "      <td>24</td>\n",
       "    </tr>\n",
       "    <tr>\n",
       "      <th>soil health card</th>\n",
       "      <td>0</td>\n",
       "      <td>0</td>\n",
       "      <td>0</td>\n",
       "      <td>0</td>\n",
       "      <td>1</td>\n",
       "      <td>0</td>\n",
       "      <td>0</td>\n",
       "      <td>2</td>\n",
       "      <td>2</td>\n",
       "      <td>0</td>\n",
       "      <td>1</td>\n",
       "      <td>0</td>\n",
       "      <td>6</td>\n",
       "    </tr>\n",
       "    <tr>\n",
       "      <th>soil testing</th>\n",
       "      <td>2</td>\n",
       "      <td>10</td>\n",
       "      <td>11</td>\n",
       "      <td>28</td>\n",
       "      <td>41</td>\n",
       "      <td>16</td>\n",
       "      <td>7</td>\n",
       "      <td>16</td>\n",
       "      <td>9</td>\n",
       "      <td>13</td>\n",
       "      <td>15</td>\n",
       "      <td>9</td>\n",
       "      <td>177</td>\n",
       "    </tr>\n",
       "    <tr>\n",
       "      <th>sowing time and weather</th>\n",
       "      <td>27</td>\n",
       "      <td>26</td>\n",
       "      <td>40</td>\n",
       "      <td>42</td>\n",
       "      <td>71</td>\n",
       "      <td>18</td>\n",
       "      <td>20</td>\n",
       "      <td>15</td>\n",
       "      <td>17</td>\n",
       "      <td>19</td>\n",
       "      <td>17</td>\n",
       "      <td>22</td>\n",
       "      <td>334</td>\n",
       "    </tr>\n",
       "    <tr>\n",
       "      <th>storage</th>\n",
       "      <td>0</td>\n",
       "      <td>1</td>\n",
       "      <td>0</td>\n",
       "      <td>2</td>\n",
       "      <td>2</td>\n",
       "      <td>0</td>\n",
       "      <td>0</td>\n",
       "      <td>1</td>\n",
       "      <td>1</td>\n",
       "      <td>1</td>\n",
       "      <td>0</td>\n",
       "      <td>1</td>\n",
       "      <td>9</td>\n",
       "    </tr>\n",
       "    <tr>\n",
       "      <th>training and exposure visits</th>\n",
       "      <td>6</td>\n",
       "      <td>0</td>\n",
       "      <td>0</td>\n",
       "      <td>6</td>\n",
       "      <td>6</td>\n",
       "      <td>2</td>\n",
       "      <td>6</td>\n",
       "      <td>3</td>\n",
       "      <td>5</td>\n",
       "      <td>5</td>\n",
       "      <td>2</td>\n",
       "      <td>2</td>\n",
       "      <td>43</td>\n",
       "    </tr>\n",
       "    <tr>\n",
       "      <th>varieties</th>\n",
       "      <td>218</td>\n",
       "      <td>235</td>\n",
       "      <td>529</td>\n",
       "      <td>1555</td>\n",
       "      <td>1422</td>\n",
       "      <td>399</td>\n",
       "      <td>195</td>\n",
       "      <td>197</td>\n",
       "      <td>197</td>\n",
       "      <td>207</td>\n",
       "      <td>203</td>\n",
       "      <td>198</td>\n",
       "      <td>5555</td>\n",
       "    </tr>\n",
       "    <tr>\n",
       "      <th>water management</th>\n",
       "      <td>11</td>\n",
       "      <td>12</td>\n",
       "      <td>13</td>\n",
       "      <td>23</td>\n",
       "      <td>36</td>\n",
       "      <td>12</td>\n",
       "      <td>28</td>\n",
       "      <td>28</td>\n",
       "      <td>22</td>\n",
       "      <td>9</td>\n",
       "      <td>16</td>\n",
       "      <td>13</td>\n",
       "      <td>223</td>\n",
       "    </tr>\n",
       "    <tr>\n",
       "      <th>weed management</th>\n",
       "      <td>28</td>\n",
       "      <td>22</td>\n",
       "      <td>29</td>\n",
       "      <td>49</td>\n",
       "      <td>93</td>\n",
       "      <td>169</td>\n",
       "      <td>112</td>\n",
       "      <td>56</td>\n",
       "      <td>37</td>\n",
       "      <td>54</td>\n",
       "      <td>29</td>\n",
       "      <td>29</td>\n",
       "      <td>707</td>\n",
       "    </tr>\n",
       "    <tr>\n",
       "      <th>All</th>\n",
       "      <td>4976</td>\n",
       "      <td>4453</td>\n",
       "      <td>4538</td>\n",
       "      <td>7680</td>\n",
       "      <td>9294</td>\n",
       "      <td>7717</td>\n",
       "      <td>11570</td>\n",
       "      <td>15236</td>\n",
       "      <td>12967</td>\n",
       "      <td>7107</td>\n",
       "      <td>5773</td>\n",
       "      <td>5300</td>\n",
       "      <td>96611</td>\n",
       "    </tr>\n",
       "  </tbody>\n",
       "</table>\n",
       "</div>"
      ],
      "text/plain": [
       "month                                1     2     3     4     5     6      7  \\\n",
       "query_type                                                                    \n",
       "agriculture mechanization           86    64    62   114   177   163    246   \n",
       "bio                                  5     1     3     5     3     3      2   \n",
       "biopesticides and biofertilizers   151   150   168   262   403   348    948   \n",
       "credit                               1     1     2     4     7     2      3   \n",
       "crop insurance                       1     3     2     9     8     9     22   \n",
       "cultural practices                 237   212   235   487   957   641    611   \n",
       "fertilizer use and availability    420   422   423   563   683  1273   1652   \n",
       "field preparation                  121   121   135   271   335   240    301   \n",
       "government schemes                  26    18    19    43    57    32     32   \n",
       "landscaping                          2     1     0     0     0     0      0   \n",
       "market information                1404  1064   723   924   574   472    446   \n",
       "nursery management                   3     0     0     0     0     0      0   \n",
       "nutrient management                229   226   247   284   286   372    594   \n",
       "organic farming                      2     2     2     3     6     0      3   \n",
       "plant protection                  1826  1650  1638  2015  2599  3046   6127   \n",
       "post harvest preservation            1     1     0     1     1     0      2   \n",
       "power, roads etc.                    1     2     0     3     8     5      4   \n",
       "seeds                              164   205   254   986  1517   494    208   \n",
       "seeds and planting material          4     4     3     1     1     1      1   \n",
       "soil health card                     0     0     0     0     1     0      0   \n",
       "soil testing                         2    10    11    28    41    16      7   \n",
       "sowing time and weather             27    26    40    42    71    18     20   \n",
       "storage                              0     1     0     2     2     0      0   \n",
       "training and exposure visits         6     0     0     6     6     2      6   \n",
       "varieties                          218   235   529  1555  1422   399    195   \n",
       "water management                    11    12    13    23    36    12     28   \n",
       "weed management                     28    22    29    49    93   169    112   \n",
       "All                               4976  4453  4538  7680  9294  7717  11570   \n",
       "\n",
       "month                                 8      9    10    11    12    All  \n",
       "query_type                                                               \n",
       "agriculture mechanization           341    330   170    91    87   1931  \n",
       "bio                                   2     15    27    24    12    102  \n",
       "biopesticides and biofertilizers   1200    624   227   215   156   4852  \n",
       "credit                                5      5     2     3     1     36  \n",
       "crop insurance                       12     11     7    18     4    106  \n",
       "cultural practices                  681    495   351   271   212   5390  \n",
       "fertilizer use and availability    1542   1273   866   590   490  10197  \n",
       "field preparation                   290    292   155   129   125   2515  \n",
       "government schemes                   30     46    27    36    37    403  \n",
       "landscaping                           0      2     0     0     0      5  \n",
       "market information                  395    423   753   838  1416   9432  \n",
       "nursery management                    0      0     0     0     0      3  \n",
       "nutrient management                 893    733   453   348   268   4933  \n",
       "organic farming                       1      5     5     1     1     31  \n",
       "plant protection                   9338   8241  3578  2773  2059  44890  \n",
       "post harvest preservation             2      1     2     2     4     17  \n",
       "power, roads etc.                     4      1     0     1     0     29  \n",
       "seeds                               181    172   176   150   154   4661  \n",
       "seeds and planting material           1      8     0     0     0     24  \n",
       "soil health card                      2      2     0     1     0      6  \n",
       "soil testing                         16      9    13    15     9    177  \n",
       "sowing time and weather              15     17    19    17    22    334  \n",
       "storage                               1      1     1     0     1      9  \n",
       "training and exposure visits          3      5     5     2     2     43  \n",
       "varieties                           197    197   207   203   198   5555  \n",
       "water management                     28     22     9    16    13    223  \n",
       "weed management                      56     37    54    29    29    707  \n",
       "All                               15236  12967  7107  5773  5300  96611  "
      ]
     },
     "execution_count": 17,
     "metadata": {},
     "output_type": "execute_result"
    }
   ],
   "source": [
    "# data check \n",
    "contingency_table = pd.crosstab(\n",
    "    cotton_farmers_data['query_type'],\n",
    "    cotton_farmers_data['month'],\n",
    "    margins = True\n",
    ")\n",
    "contingency_table"
   ]
  },
  {
   "cell_type": "code",
   "execution_count": 18,
   "metadata": {},
   "outputs": [
    {
     "data": {
      "text/plain": [
       "<matplotlib.axes._subplots.AxesSubplot at 0x2433df897f0>"
      ]
     },
     "execution_count": 18,
     "metadata": {},
     "output_type": "execute_result"
    },
    {
     "data": {
      "image/png": "[encoded data removed]",
      "text/plain": [
       "<Figure size 720x360 with 1 Axes>"
      ]
     },
     "metadata": {},
     "output_type": "display_data"
    }
   ],
   "source": [
    "# Let's see the distribution of data by year\n",
    "cotton_farmers_data['year'].value_counts().nlargest(30).plot(kind='bar', figsize=(10,5))\n"
   ]
  },
  {
   "cell_type": "code",
   "execution_count": 19,
   "metadata": {},
   "outputs": [
    {
     "data": {
      "text/plain": [
       "<matplotlib.axes._subplots.AxesSubplot at 0x2433e531cc0>"
      ]
     },
     "execution_count": 19,
     "metadata": {},
     "output_type": "execute_result"
    },
    {
     "data": {
      "image/png": "[encoded data removed]",
      "text/plain": [
       "<Figure size 720x360 with 1 Axes>"
      ]
     },
     "metadata": {},
     "output_type": "display_data"
    }
   ],
   "source": [
    "\n",
    "# Let's plot the target column  i.e. Query type - category\n",
    "cotton_farmers_data['query_type'].value_counts().plot(kind='bar', figsize=(10,5))"
   ]
  },
  {
   "cell_type": "markdown",
   "metadata": {},
   "source": [
    "\n",
    "There seems to be many categories that are scarcely available inthe data.\n",
    "Plant/Crop/Fertilizer/Nutrients related are the frequent made calls"
   ]
  },
  {
   "cell_type": "code",
   "execution_count": 20,
   "metadata": {},
   "outputs": [
    {
     "data": {
      "text/plain": [
       "<matplotlib.axes._subplots.AxesSubplot at 0x2433e5cdd30>"
      ]
     },
     "execution_count": 20,
     "metadata": {},
     "output_type": "execute_result"
    },
    {
     "data": {
      "image/png": "[encoded data removed]",
      "text/plain": [
       "<Figure size 720x360 with 1 Axes>"
      ]
     },
     "metadata": {},
     "output_type": "display_data"
    }
   ],
   "source": [
    "#Now let's plot the least queried category calls \n",
    "cotton_farmers_data['query_type'].value_counts().nsmallest(10).plot(kind='bar',figsize=(10,5))"
   ]
  },
  {
   "cell_type": "code",
   "execution_count": 21,
   "metadata": {},
   "outputs": [
    {
     "data": {
      "text/plain": [
       "<matplotlib.axes._subplots.AxesSubplot at 0x2433e8257b8>"
      ]
     },
     "execution_count": 21,
     "metadata": {},
     "output_type": "execute_result"
    },
    {
     "data": {
      "image/png": "[encoded data removed]",
      "text/plain": [
       "<Figure size 720x360 with 1 Axes>"
      ]
     },
     "metadata": {},
     "output_type": "display_data"
    }
   ],
   "source": [
    "#Let's plot the distribution of States by calls received\n",
    "cotton_farmers_data['state_name'].value_counts().plot(kind='bar', figsize=(10,5))"
   ]
  },
  {
   "cell_type": "markdown",
   "metadata": {},
   "source": [
    "Maharastra contributes for more than one-third of the calls\n",
    "Similarly Haryana and Gujarat comibined for another one-third\n",
    "Rajasthan just around 13%,\n",
    "Rest of the contribution is majorly from Tamil Nadu, Telangana, Andhra PRadesh  and Karnataka\n",
    "Rest of the states not mentioned above rarely call.\n"
   ]
  },
  {
   "cell_type": "markdown",
   "metadata": {},
   "source": [
    "With the above plots, it's imperative that there are some query categories whose information is not available at extent that helps to predict. Hence limiting the prediction to the queries where we have atleast 5000 number of calls.\n",
    "Not much analysis is done to decide these cut-offs, just look from the plots.\n",
    "Also YARA being a chemicals company, the area of interest is assumed to be Plant protection, Fertilizers and pesticies\n",
    "\n",
    "Similarly states and yearly data with lesser contribution are getting excluded with below cut-offs\n",
    "\n",
    "#filtering out the states by value_counts <1000 \n",
    "data_1 = data[data['state_name'].map(data['state_name'].value_counts()) > 1000]\n",
    "#Filtering out  the year data by value_counts < 2500 \n",
    "data_2 = data_1[data_1['year'].map(data_1['year'].value_counts()) > 2500]\n",
    "#filterinng the target coulumn by value_counts < 1000\n",
    "data = data_2[data_2['query_type'].map(data_2['query_type'].value_counts()) > 1000]"
   ]
  },
  {
   "cell_type": "code",
   "execution_count": 22,
   "metadata": {},
   "outputs": [],
   "source": [
    "cotton_farmers_data3=cotton_farmers_data.copy()"
   ]
  },
  {
   "cell_type": "code",
   "execution_count": 23,
   "metadata": {},
   "outputs": [],
   "source": [
    "#filterinng the target coulumn by value_counts < 1000 \n",
    "data1 = cotton_farmers_data[cotton_farmers_data['query_type'].map(cotton_farmers_data['query_type'].value_counts()) > 1000]"
   ]
  },
  {
   "cell_type": "code",
   "execution_count": 24,
   "metadata": {},
   "outputs": [],
   "source": [
    "#Filtering out the year data by value_counts < 2500 \n",
    "data2 = data1[data1['year'].map(data1['year'].value_counts()) > 2500]"
   ]
  },
  {
   "cell_type": "code",
   "execution_count": 25,
   "metadata": {},
   "outputs": [],
   "source": [
    "#filtering out the states by value_counts <1000 \n",
    "data3 = data2[data2['state_name'].map(data2['state_name'].value_counts()) > 1000]"
   ]
  },
  {
   "cell_type": "code",
   "execution_count": 26,
   "metadata": {},
   "outputs": [
    {
     "name": "stdout",
     "output_type": "stream",
     "text": [
      "(91074, 12)\n"
     ]
    }
   ],
   "source": [
    "print(data3.shape)"
   ]
  },
  {
   "cell_type": "code",
   "execution_count": 27,
   "metadata": {},
   "outputs": [
    {
     "data": {
      "text/html": [
       "<div>\n",
       "<style scoped>\n",
       "    .dataframe tbody tr th:only-of-type {\n",
       "        vertical-align: middle;\n",
       "    }\n",
       "\n",
       "    .dataframe tbody tr th {\n",
       "        vertical-align: top;\n",
       "    }\n",
       "\n",
       "    .dataframe thead th {\n",
       "        text-align: right;\n",
       "    }\n",
       "</style>\n",
       "<table border=\"1\" class=\"dataframe\">\n",
       "  <thead>\n",
       "    <tr style=\"text-align: right;\">\n",
       "      <th>month</th>\n",
       "      <th>1</th>\n",
       "      <th>2</th>\n",
       "      <th>3</th>\n",
       "      <th>4</th>\n",
       "      <th>5</th>\n",
       "      <th>6</th>\n",
       "      <th>7</th>\n",
       "      <th>8</th>\n",
       "      <th>9</th>\n",
       "      <th>10</th>\n",
       "      <th>11</th>\n",
       "      <th>12</th>\n",
       "      <th>All</th>\n",
       "    </tr>\n",
       "    <tr>\n",
       "      <th>query_type</th>\n",
       "      <th></th>\n",
       "      <th></th>\n",
       "      <th></th>\n",
       "      <th></th>\n",
       "      <th></th>\n",
       "      <th></th>\n",
       "      <th></th>\n",
       "      <th></th>\n",
       "      <th></th>\n",
       "      <th></th>\n",
       "      <th></th>\n",
       "      <th></th>\n",
       "      <th></th>\n",
       "    </tr>\n",
       "  </thead>\n",
       "  <tbody>\n",
       "    <tr>\n",
       "      <th>agriculture mechanization</th>\n",
       "      <td>72</td>\n",
       "      <td>56</td>\n",
       "      <td>55</td>\n",
       "      <td>105</td>\n",
       "      <td>175</td>\n",
       "      <td>158</td>\n",
       "      <td>244</td>\n",
       "      <td>303</td>\n",
       "      <td>312</td>\n",
       "      <td>160</td>\n",
       "      <td>86</td>\n",
       "      <td>79</td>\n",
       "      <td>1805</td>\n",
       "    </tr>\n",
       "    <tr>\n",
       "      <th>biopesticides and biofertilizers</th>\n",
       "      <td>151</td>\n",
       "      <td>150</td>\n",
       "      <td>168</td>\n",
       "      <td>262</td>\n",
       "      <td>402</td>\n",
       "      <td>347</td>\n",
       "      <td>947</td>\n",
       "      <td>1198</td>\n",
       "      <td>624</td>\n",
       "      <td>227</td>\n",
       "      <td>215</td>\n",
       "      <td>156</td>\n",
       "      <td>4847</td>\n",
       "    </tr>\n",
       "    <tr>\n",
       "      <th>cultural practices</th>\n",
       "      <td>224</td>\n",
       "      <td>202</td>\n",
       "      <td>214</td>\n",
       "      <td>460</td>\n",
       "      <td>895</td>\n",
       "      <td>584</td>\n",
       "      <td>580</td>\n",
       "      <td>645</td>\n",
       "      <td>466</td>\n",
       "      <td>337</td>\n",
       "      <td>260</td>\n",
       "      <td>201</td>\n",
       "      <td>5068</td>\n",
       "    </tr>\n",
       "    <tr>\n",
       "      <th>fertilizer use and availability</th>\n",
       "      <td>368</td>\n",
       "      <td>369</td>\n",
       "      <td>383</td>\n",
       "      <td>501</td>\n",
       "      <td>557</td>\n",
       "      <td>1081</td>\n",
       "      <td>1402</td>\n",
       "      <td>1345</td>\n",
       "      <td>1157</td>\n",
       "      <td>786</td>\n",
       "      <td>533</td>\n",
       "      <td>412</td>\n",
       "      <td>8894</td>\n",
       "    </tr>\n",
       "    <tr>\n",
       "      <th>field preparation</th>\n",
       "      <td>115</td>\n",
       "      <td>120</td>\n",
       "      <td>134</td>\n",
       "      <td>265</td>\n",
       "      <td>332</td>\n",
       "      <td>230</td>\n",
       "      <td>296</td>\n",
       "      <td>286</td>\n",
       "      <td>291</td>\n",
       "      <td>153</td>\n",
       "      <td>127</td>\n",
       "      <td>124</td>\n",
       "      <td>2473</td>\n",
       "    </tr>\n",
       "    <tr>\n",
       "      <th>market information</th>\n",
       "      <td>1298</td>\n",
       "      <td>955</td>\n",
       "      <td>703</td>\n",
       "      <td>910</td>\n",
       "      <td>562</td>\n",
       "      <td>460</td>\n",
       "      <td>433</td>\n",
       "      <td>381</td>\n",
       "      <td>411</td>\n",
       "      <td>744</td>\n",
       "      <td>818</td>\n",
       "      <td>1405</td>\n",
       "      <td>9080</td>\n",
       "    </tr>\n",
       "    <tr>\n",
       "      <th>nutrient management</th>\n",
       "      <td>215</td>\n",
       "      <td>214</td>\n",
       "      <td>244</td>\n",
       "      <td>282</td>\n",
       "      <td>279</td>\n",
       "      <td>360</td>\n",
       "      <td>580</td>\n",
       "      <td>871</td>\n",
       "      <td>727</td>\n",
       "      <td>449</td>\n",
       "      <td>346</td>\n",
       "      <td>263</td>\n",
       "      <td>4830</td>\n",
       "    </tr>\n",
       "    <tr>\n",
       "      <th>plant protection</th>\n",
       "      <td>1773</td>\n",
       "      <td>1603</td>\n",
       "      <td>1611</td>\n",
       "      <td>1956</td>\n",
       "      <td>2551</td>\n",
       "      <td>2968</td>\n",
       "      <td>5986</td>\n",
       "      <td>9127</td>\n",
       "      <td>8113</td>\n",
       "      <td>3526</td>\n",
       "      <td>2741</td>\n",
       "      <td>2014</td>\n",
       "      <td>43969</td>\n",
       "    </tr>\n",
       "    <tr>\n",
       "      <th>seeds</th>\n",
       "      <td>161</td>\n",
       "      <td>202</td>\n",
       "      <td>253</td>\n",
       "      <td>978</td>\n",
       "      <td>1509</td>\n",
       "      <td>486</td>\n",
       "      <td>204</td>\n",
       "      <td>179</td>\n",
       "      <td>171</td>\n",
       "      <td>176</td>\n",
       "      <td>150</td>\n",
       "      <td>152</td>\n",
       "      <td>4621</td>\n",
       "    </tr>\n",
       "    <tr>\n",
       "      <th>varieties</th>\n",
       "      <td>215</td>\n",
       "      <td>229</td>\n",
       "      <td>514</td>\n",
       "      <td>1541</td>\n",
       "      <td>1413</td>\n",
       "      <td>397</td>\n",
       "      <td>194</td>\n",
       "      <td>191</td>\n",
       "      <td>195</td>\n",
       "      <td>204</td>\n",
       "      <td>199</td>\n",
       "      <td>195</td>\n",
       "      <td>5487</td>\n",
       "    </tr>\n",
       "    <tr>\n",
       "      <th>All</th>\n",
       "      <td>4592</td>\n",
       "      <td>4100</td>\n",
       "      <td>4279</td>\n",
       "      <td>7260</td>\n",
       "      <td>8675</td>\n",
       "      <td>7071</td>\n",
       "      <td>10866</td>\n",
       "      <td>14526</td>\n",
       "      <td>12467</td>\n",
       "      <td>6762</td>\n",
       "      <td>5475</td>\n",
       "      <td>5001</td>\n",
       "      <td>91074</td>\n",
       "    </tr>\n",
       "  </tbody>\n",
       "</table>\n",
       "</div>"
      ],
      "text/plain": [
       "month                                1     2     3     4     5     6      7  \\\n",
       "query_type                                                                    \n",
       "agriculture mechanization           72    56    55   105   175   158    244   \n",
       "biopesticides and biofertilizers   151   150   168   262   402   347    947   \n",
       "cultural practices                 224   202   214   460   895   584    580   \n",
       "fertilizer use and availability    368   369   383   501   557  1081   1402   \n",
       "field preparation                  115   120   134   265   332   230    296   \n",
       "market information                1298   955   703   910   562   460    433   \n",
       "nutrient management                215   214   244   282   279   360    580   \n",
       "plant protection                  1773  1603  1611  1956  2551  2968   5986   \n",
       "seeds                              161   202   253   978  1509   486    204   \n",
       "varieties                          215   229   514  1541  1413   397    194   \n",
       "All                               4592  4100  4279  7260  8675  7071  10866   \n",
       "\n",
       "month                                 8      9    10    11    12    All  \n",
       "query_type                                                               \n",
       "agriculture mechanization           303    312   160    86    79   1805  \n",
       "biopesticides and biofertilizers   1198    624   227   215   156   4847  \n",
       "cultural practices                  645    466   337   260   201   5068  \n",
       "fertilizer use and availability    1345   1157   786   533   412   8894  \n",
       "field preparation                   286    291   153   127   124   2473  \n",
       "market information                  381    411   744   818  1405   9080  \n",
       "nutrient management                 871    727   449   346   263   4830  \n",
       "plant protection                   9127   8113  3526  2741  2014  43969  \n",
       "seeds                               179    171   176   150   152   4621  \n",
       "varieties                           191    195   204   199   195   5487  \n",
       "All                               14526  12467  6762  5475  5001  91074  "
      ]
     },
     "execution_count": 27,
     "metadata": {},
     "output_type": "execute_result"
    }
   ],
   "source": [
    "#Which categories of calls co-occur at the same time of year?\n",
    "q1_table = pd.crosstab(\n",
    "    data3['query_type'],\n",
    "    data3['month'],\n",
    "    margins = True\n",
    ")\n",
    "q1_table"
   ]
  },
  {
   "cell_type": "code",
   "execution_count": 28,
   "metadata": {},
   "outputs": [
    {
     "data": {
      "image/png": "[encoded data removed]",
      "text/plain": [
       "<Figure size 1080x360 with 1 Axes>"
      ]
     },
     "metadata": {},
     "output_type": "display_data"
    }
   ],
   "source": [
    "import matplotlib.pyplot as plt\n",
    "import math\n",
    "import seaborn as sns\n",
    "import pandas as pd\n",
    "%matplotlib inline\n",
    "\n",
    "#Assigns the frequency values\n",
    "agri_mech = q1_table.iloc[0][0:12].values\n",
    "fert_pest = q1_table.iloc[1][0:12].values\n",
    "cultural = q1_table.iloc[2][0:12].values\n",
    "ferti_use = q1_table.iloc[3][0:12].values\n",
    "field_prep =q1_table.iloc[4][0:12].values\n",
    "market_info = q1_table.iloc[5][0:12].values\n",
    "nutri_mgmt =q1_table.iloc[6][0:12].values\n",
    "plant_protect=q1_table.iloc[7][0:12].values\n",
    "seeds = q1_table.iloc[8][0:12].values\n",
    "varieties = q1_table.iloc[9][0:12].values\n",
    "\n",
    "#Plots the bar chart\n",
    "fig = plt.figure(figsize=(15, 5))\n",
    "sns.set(font_scale=1.2)\n",
    "categories = [\"Jan\", \"Feb\",\t\"Mar\",\"Apr\",\"May\",\"Jun\",\"Jul\",\"Aug\",\"Sep\",\"Oct\",\"Nov\",\"Dec\" ]\n",
    "p1 = plt.bar(categories, agri_mech, 0.23, color='#d62728')\n",
    "p2 = plt.bar(categories, fert_pest, 0.23, bottom=agri_mech)\n",
    "p3 = plt.bar(categories, cultural, 0.23, bottom=fert_pest)\n",
    "p4 = plt.bar(categories, ferti_use, 0.23, bottom=cultural)\n",
    "p5 = plt.bar(categories, field_prep, 0.23, bottom=ferti_use)\n",
    "p6 = plt.bar(categories, market_info, 0.23, bottom=field_prep)\n",
    "p7 = plt.bar(categories, nutri_mgmt, 0.23, bottom=market_info)\n",
    "p8 = plt.bar(categories, plant_protect, 0.23, bottom=nutri_mgmt)\n",
    "p9 = plt.bar(categories, seeds, 0.23, bottom=plant_protect)\n",
    "p10 = plt.bar(categories, varieties, 0.23, bottom=seeds)\n",
    "plt.legend((p1[0], p2[0],p3[0], p4[0],p5[0], p6[0],p7[0], p8[0],p9[0], p10[0]), ('Agri Mech', 'Fertili', 'Cultural', 'Ferti Use', 'Field Prep','Market Info','Nutri Mgmt','Plant Protect','Seeds','Varieties'))\n",
    "plt.xlabel('Number of Queries')\n",
    "plt.ylabel('Count')\n",
    "plt.show()"
   ]
  },
  {
   "cell_type": "markdown",
   "metadata": {},
   "source": [
    "### Question 1\n",
    "•\tWhich categories of calls co-occur at the same time of year?\n",
    "\n",
    "### Answer 1\n",
    "Plant Protect, Varieties and Seeds are the most common co-occuring Queries.\n",
    "The proportion of these calls are almost equivalent to each other during May month. And then gradually Plant protection queries take lead from June onwards with Jul, Aug and Sep having maximum queries.\n"
   ]
  },
  {
   "cell_type": "code",
   "execution_count": 29,
   "metadata": {},
   "outputs": [],
   "source": [
    "june17_data = cotton_farmers_data.query('year==\"2017\" & month==\"6\" ')"
   ]
  },
  {
   "cell_type": "code",
   "execution_count": 30,
   "metadata": {},
   "outputs": [
    {
     "data": {
      "text/plain": [
       "plant protection                    455\n",
       "fertilizer use and availability     168\n",
       "market information                  113\n",
       "varieties                           103\n",
       "nutrient management                  94\n",
       "cultural practices                   78\n",
       "weed management                      63\n",
       "biopesticides and biofertilizers     48\n",
       "field preparation                    21\n",
       "agriculture mechanization            19\n",
       "seeds                                18\n",
       "government schemes                    8\n",
       "sowing time and weather               5\n",
       "bio                                   3\n",
       "soil testing                          1\n",
       "seeds and planting material           1\n",
       "Name: query_type, dtype: int64"
      ]
     },
     "execution_count": 30,
     "metadata": {},
     "output_type": "execute_result"
    }
   ],
   "source": [
    "june17_data.query_type.value_counts()"
   ]
  },
  {
   "cell_type": "code",
   "execution_count": 31,
   "metadata": {},
   "outputs": [
    {
     "data": {
      "text/plain": [
       "<matplotlib.axes._subplots.AxesSubplot at 0x2433eb57748>"
      ]
     },
     "execution_count": 31,
     "metadata": {},
     "output_type": "execute_result"
    },
    {
     "data": {
      "image/png": "[encoded data removed]",
      "text/plain": [
       "<Figure size 720x360 with 1 Axes>"
      ]
     },
     "metadata": {},
     "output_type": "display_data"
    }
   ],
   "source": [
    "june17_data['query_type'].value_counts().plot(kind='bar', figsize=(10,5))"
   ]
  },
  {
   "cell_type": "markdown",
   "metadata": {},
   "source": [
    "### Question 2\n",
    "•\tWhat are farmers interested induring June 2017?\n",
    "### Answer 2\n",
    "Majority of the Farmers are interested in querying about Plant protection during June 2017, followed by Fertilizer use and availablility, market information, varieties, nurtient management, cultural practices, weed management, biopesticides and fertilizers respectively."
   ]
  },
  {
   "cell_type": "code",
   "execution_count": 32,
   "metadata": {},
   "outputs": [
    {
     "data": {
      "text/plain": [
       "crop                      object\n",
       "created_on                object\n",
       "query_type                object\n",
       "query_text_raw            object\n",
       "state_name                object\n",
       "district_name             object\n",
       "GPS                       object\n",
       "7d_rainfall              float64\n",
       "date              datetime64[ns]\n",
       "year                       int64\n",
       "month                      int64\n",
       "day                        int64\n",
       "dtype: object"
      ]
     },
     "execution_count": 32,
     "metadata": {},
     "output_type": "execute_result"
    }
   ],
   "source": [
    "data3.dtypes"
   ]
  },
  {
   "cell_type": "code",
   "execution_count": 33,
   "metadata": {},
   "outputs": [
    {
     "data": {
      "image/png": "[encoded data removed]",
      "text/plain": [
       "<Figure size 720x432 with 2 Axes>"
      ]
     },
     "metadata": {},
     "output_type": "display_data"
    }
   ],
   "source": [
    "# correlation plot\n",
    "matrix = data3.corr() \n",
    "f, ax = plt.subplots(figsize=(10, 6))\n",
    "sns.heatmap(matrix, vmax=.8, square=True, cmap=\"BuPu\");"
   ]
  },
  {
   "cell_type": "markdown",
   "metadata": {},
   "source": [
    " ## modelling"
   ]
  },
  {
   "cell_type": "code",
   "execution_count": 34,
   "metadata": {},
   "outputs": [
    {
     "data": {
      "text/html": [
       "<div>\n",
       "<style scoped>\n",
       "    .dataframe tbody tr th:only-of-type {\n",
       "        vertical-align: middle;\n",
       "    }\n",
       "\n",
       "    .dataframe tbody tr th {\n",
       "        vertical-align: top;\n",
       "    }\n",
       "\n",
       "    .dataframe thead th {\n",
       "        text-align: right;\n",
       "    }\n",
       "</style>\n",
       "<table border=\"1\" class=\"dataframe\">\n",
       "  <thead>\n",
       "    <tr style=\"text-align: right;\">\n",
       "      <th></th>\n",
       "      <th>crop</th>\n",
       "      <th>created_on</th>\n",
       "      <th>query_type</th>\n",
       "      <th>query_text_raw</th>\n",
       "      <th>state_name</th>\n",
       "      <th>district_name</th>\n",
       "      <th>GPS</th>\n",
       "      <th>7d_rainfall</th>\n",
       "      <th>date</th>\n",
       "      <th>year</th>\n",
       "      <th>month</th>\n",
       "      <th>day</th>\n",
       "    </tr>\n",
       "  </thead>\n",
       "  <tbody>\n",
       "    <tr>\n",
       "      <th>58119</th>\n",
       "      <td>cotton</td>\n",
       "      <td>1/1/13 12:48</td>\n",
       "      <td>fertilizer use and availability</td>\n",
       "      <td>fertilizer</td>\n",
       "      <td>maharashtra</td>\n",
       "      <td>chandrapur</td>\n",
       "      <td>19.74-78.99</td>\n",
       "      <td>1.862749</td>\n",
       "      <td>2013-01-01 12:48:00</td>\n",
       "      <td>2013</td>\n",
       "      <td>1</td>\n",
       "      <td>1</td>\n",
       "    </tr>\n",
       "    <tr>\n",
       "      <th>65959</th>\n",
       "      <td>cotton</td>\n",
       "      <td>1/1/13 09:55</td>\n",
       "      <td>fertilizer use and availability</td>\n",
       "      <td>fertilizer dose for cotton fardad</td>\n",
       "      <td>maharashtra</td>\n",
       "      <td>wardha</td>\n",
       "      <td>20.75-78.6</td>\n",
       "      <td>22.878842</td>\n",
       "      <td>2013-01-01 09:55:00</td>\n",
       "      <td>2013</td>\n",
       "      <td>1</td>\n",
       "      <td>1</td>\n",
       "    </tr>\n",
       "    <tr>\n",
       "      <th>4519</th>\n",
       "      <td>cotton</td>\n",
       "      <td>1/1/13 07:46</td>\n",
       "      <td>fertilizer use and availability</td>\n",
       "      <td>fertilizer management in cotton</td>\n",
       "      <td>tamil nadu</td>\n",
       "      <td>dindigul</td>\n",
       "      <td>10.37-77.98</td>\n",
       "      <td>66.253425</td>\n",
       "      <td>2013-01-01 07:46:00</td>\n",
       "      <td>2013</td>\n",
       "      <td>1</td>\n",
       "      <td>1</td>\n",
       "    </tr>\n",
       "    <tr>\n",
       "      <th>12592</th>\n",
       "      <td>cotton</td>\n",
       "      <td>1/4/13 14:36</td>\n",
       "      <td>cultural practices</td>\n",
       "      <td>ask abt cotton crop?</td>\n",
       "      <td>gujarat</td>\n",
       "      <td>junagadh</td>\n",
       "      <td>21.16-70.31</td>\n",
       "      <td>8.812781</td>\n",
       "      <td>2013-01-04 14:36:00</td>\n",
       "      <td>2013</td>\n",
       "      <td>1</td>\n",
       "      <td>4</td>\n",
       "    </tr>\n",
       "    <tr>\n",
       "      <th>19606</th>\n",
       "      <td>cotton</td>\n",
       "      <td>1/5/13 19:43</td>\n",
       "      <td>cultural practices</td>\n",
       "      <td>junagadh agricultural university.</td>\n",
       "      <td>gujarat</td>\n",
       "      <td>junagadh</td>\n",
       "      <td>21.55-70.7</td>\n",
       "      <td>17.186766</td>\n",
       "      <td>2013-01-05 19:43:00</td>\n",
       "      <td>2013</td>\n",
       "      <td>1</td>\n",
       "      <td>5</td>\n",
       "    </tr>\n",
       "  </tbody>\n",
       "</table>\n",
       "</div>"
      ],
      "text/plain": [
       "         crop    created_on                       query_type  \\\n",
       "58119  cotton  1/1/13 12:48  fertilizer use and availability   \n",
       "65959  cotton  1/1/13 09:55  fertilizer use and availability   \n",
       "4519   cotton  1/1/13 07:46  fertilizer use and availability   \n",
       "12592  cotton  1/4/13 14:36               cultural practices   \n",
       "19606  cotton  1/5/13 19:43               cultural practices   \n",
       "\n",
       "                          query_text_raw   state_name district_name  \\\n",
       "58119                         fertilizer  maharashtra    chandrapur   \n",
       "65959  fertilizer dose for cotton fardad  maharashtra        wardha   \n",
       "4519     fertilizer management in cotton   tamil nadu      dindigul   \n",
       "12592               ask abt cotton crop?      gujarat      junagadh   \n",
       "19606  junagadh agricultural university.      gujarat      junagadh   \n",
       "\n",
       "               GPS  7d_rainfall                date  year  month  day  \n",
       "58119  19.74-78.99     1.862749 2013-01-01 12:48:00  2013      1    1  \n",
       "65959   20.75-78.6    22.878842 2013-01-01 09:55:00  2013      1    1  \n",
       "4519   10.37-77.98    66.253425 2013-01-01 07:46:00  2013      1    1  \n",
       "12592  21.16-70.31     8.812781 2013-01-04 14:36:00  2013      1    4  \n",
       "19606   21.55-70.7    17.186766 2013-01-05 19:43:00  2013      1    5  "
      ]
     },
     "execution_count": 34,
     "metadata": {},
     "output_type": "execute_result"
    }
   ],
   "source": [
    "data3.head()"
   ]
  },
  {
   "cell_type": "code",
   "execution_count": 35,
   "metadata": {},
   "outputs": [
    {
     "data": {
      "text/plain": [
       "(91074, 12)"
      ]
     },
     "execution_count": 35,
     "metadata": {},
     "output_type": "execute_result"
    }
   ],
   "source": [
    "data3.shape"
   ]
  },
  {
   "cell_type": "code",
   "execution_count": 36,
   "metadata": {},
   "outputs": [],
   "source": [
    "col=[\"created_on\",\"GPS\",\"crop\"]\n",
    "data3.drop(col,inplace=True,axis=1)"
   ]
  },
  {
   "cell_type": "code",
   "execution_count": 37,
   "metadata": {},
   "outputs": [
    {
     "data": {
      "text/plain": [
       "(91074, 9)"
      ]
     },
     "execution_count": 37,
     "metadata": {},
     "output_type": "execute_result"
    }
   ],
   "source": [
    "data3.shape"
   ]
  },
  {
   "cell_type": "code",
   "execution_count": 38,
   "metadata": {},
   "outputs": [
    {
     "data": {
      "text/html": [
       "<div>\n",
       "<style scoped>\n",
       "    .dataframe tbody tr th:only-of-type {\n",
       "        vertical-align: middle;\n",
       "    }\n",
       "\n",
       "    .dataframe tbody tr th {\n",
       "        vertical-align: top;\n",
       "    }\n",
       "\n",
       "    .dataframe thead th {\n",
       "        text-align: right;\n",
       "    }\n",
       "</style>\n",
       "<table border=\"1\" class=\"dataframe\">\n",
       "  <thead>\n",
       "    <tr style=\"text-align: right;\">\n",
       "      <th></th>\n",
       "      <th>query_type</th>\n",
       "      <th>query_text_raw</th>\n",
       "      <th>state_name</th>\n",
       "      <th>district_name</th>\n",
       "      <th>7d_rainfall</th>\n",
       "      <th>date</th>\n",
       "      <th>year</th>\n",
       "      <th>month</th>\n",
       "      <th>day</th>\n",
       "    </tr>\n",
       "  </thead>\n",
       "  <tbody>\n",
       "    <tr>\n",
       "      <th>58119</th>\n",
       "      <td>fertilizer use and availability</td>\n",
       "      <td>fertilizer</td>\n",
       "      <td>maharashtra</td>\n",
       "      <td>chandrapur</td>\n",
       "      <td>1.862749</td>\n",
       "      <td>2013-01-01 12:48:00</td>\n",
       "      <td>2013</td>\n",
       "      <td>1</td>\n",
       "      <td>1</td>\n",
       "    </tr>\n",
       "    <tr>\n",
       "      <th>65959</th>\n",
       "      <td>fertilizer use and availability</td>\n",
       "      <td>fertilizer dose for cotton fardad</td>\n",
       "      <td>maharashtra</td>\n",
       "      <td>wardha</td>\n",
       "      <td>22.878842</td>\n",
       "      <td>2013-01-01 09:55:00</td>\n",
       "      <td>2013</td>\n",
       "      <td>1</td>\n",
       "      <td>1</td>\n",
       "    </tr>\n",
       "  </tbody>\n",
       "</table>\n",
       "</div>"
      ],
      "text/plain": [
       "                            query_type                     query_text_raw  \\\n",
       "58119  fertilizer use and availability                         fertilizer   \n",
       "65959  fertilizer use and availability  fertilizer dose for cotton fardad   \n",
       "\n",
       "        state_name district_name  7d_rainfall                date  year  \\\n",
       "58119  maharashtra    chandrapur     1.862749 2013-01-01 12:48:00  2013   \n",
       "65959  maharashtra        wardha    22.878842 2013-01-01 09:55:00  2013   \n",
       "\n",
       "       month  day  \n",
       "58119      1    1  \n",
       "65959      1    1  "
      ]
     },
     "execution_count": 38,
     "metadata": {},
     "output_type": "execute_result"
    }
   ],
   "source": [
    "data3.head(2)"
   ]
  },
  {
   "cell_type": "code",
   "execution_count": 39,
   "metadata": {},
   "outputs": [
    {
     "data": {
      "text/plain": [
       "Text(0,0.5,'Percentage')"
      ]
     },
     "execution_count": 39,
     "metadata": {},
     "output_type": "execute_result"
    },
    {
     "data": {
      "image/png": "[encoded data removed]",
      "text/plain": [
       "<Figure size 1440x432 with 1 Axes>"
      ]
     },
     "metadata": {},
     "output_type": "display_data"
    }
   ],
   "source": [
    "bins=[0,10,30,60,80,110] \n",
    "group=[\"drought\",'Low','Average','High', 'Very high'] \n",
    "data3['rain_bin']=pd.cut(data3['7d_rainfall'],bins,labels=group) #cut helps segmenting and sorting of data\n",
    "rain_bin=pd.crosstab(data3['rain_bin'],data3['query_type']) \n",
    "rain_bin.div(rain_bin.sum(1).astype(float), axis=0).plot(kind=\"bar\", stacked=True,figsize=(20,6)) \n",
    "plt.xlabel('rainfall') \n",
    "plt.ylabel('Percentage')"
   ]
  },
  {
   "cell_type": "code",
   "execution_count": 40,
   "metadata": {},
   "outputs": [],
   "source": [
    "col_1=[\"year\",\"day\",\"7d_rainfall\"]\n",
    "data3.drop(col_1,inplace=True,axis=1)"
   ]
  },
  {
   "cell_type": "code",
   "execution_count": 41,
   "metadata": {},
   "outputs": [
    {
     "data": {
      "text/html": [
       "<div>\n",
       "<style scoped>\n",
       "    .dataframe tbody tr th:only-of-type {\n",
       "        vertical-align: middle;\n",
       "    }\n",
       "\n",
       "    .dataframe tbody tr th {\n",
       "        vertical-align: top;\n",
       "    }\n",
       "\n",
       "    .dataframe thead th {\n",
       "        text-align: right;\n",
       "    }\n",
       "</style>\n",
       "<table border=\"1\" class=\"dataframe\">\n",
       "  <thead>\n",
       "    <tr style=\"text-align: right;\">\n",
       "      <th></th>\n",
       "      <th>query_type</th>\n",
       "      <th>query_text_raw</th>\n",
       "      <th>state_name</th>\n",
       "      <th>district_name</th>\n",
       "      <th>date</th>\n",
       "      <th>month</th>\n",
       "      <th>rain_bin</th>\n",
       "    </tr>\n",
       "  </thead>\n",
       "  <tbody>\n",
       "    <tr>\n",
       "      <th>58119</th>\n",
       "      <td>fertilizer use and availability</td>\n",
       "      <td>fertilizer</td>\n",
       "      <td>maharashtra</td>\n",
       "      <td>chandrapur</td>\n",
       "      <td>2013-01-01 12:48:00</td>\n",
       "      <td>1</td>\n",
       "      <td>drought</td>\n",
       "    </tr>\n",
       "    <tr>\n",
       "      <th>65959</th>\n",
       "      <td>fertilizer use and availability</td>\n",
       "      <td>fertilizer dose for cotton fardad</td>\n",
       "      <td>maharashtra</td>\n",
       "      <td>wardha</td>\n",
       "      <td>2013-01-01 09:55:00</td>\n",
       "      <td>1</td>\n",
       "      <td>Low</td>\n",
       "    </tr>\n",
       "    <tr>\n",
       "      <th>4519</th>\n",
       "      <td>fertilizer use and availability</td>\n",
       "      <td>fertilizer management in cotton</td>\n",
       "      <td>tamil nadu</td>\n",
       "      <td>dindigul</td>\n",
       "      <td>2013-01-01 07:46:00</td>\n",
       "      <td>1</td>\n",
       "      <td>High</td>\n",
       "    </tr>\n",
       "    <tr>\n",
       "      <th>12592</th>\n",
       "      <td>cultural practices</td>\n",
       "      <td>ask abt cotton crop?</td>\n",
       "      <td>gujarat</td>\n",
       "      <td>junagadh</td>\n",
       "      <td>2013-01-04 14:36:00</td>\n",
       "      <td>1</td>\n",
       "      <td>drought</td>\n",
       "    </tr>\n",
       "    <tr>\n",
       "      <th>19606</th>\n",
       "      <td>cultural practices</td>\n",
       "      <td>junagadh agricultural university.</td>\n",
       "      <td>gujarat</td>\n",
       "      <td>junagadh</td>\n",
       "      <td>2013-01-05 19:43:00</td>\n",
       "      <td>1</td>\n",
       "      <td>Low</td>\n",
       "    </tr>\n",
       "  </tbody>\n",
       "</table>\n",
       "</div>"
      ],
      "text/plain": [
       "                            query_type                     query_text_raw  \\\n",
       "58119  fertilizer use and availability                         fertilizer   \n",
       "65959  fertilizer use and availability  fertilizer dose for cotton fardad   \n",
       "4519   fertilizer use and availability    fertilizer management in cotton   \n",
       "12592               cultural practices               ask abt cotton crop?   \n",
       "19606               cultural practices  junagadh agricultural university.   \n",
       "\n",
       "        state_name district_name                date  month rain_bin  \n",
       "58119  maharashtra    chandrapur 2013-01-01 12:48:00      1  drought  \n",
       "65959  maharashtra        wardha 2013-01-01 09:55:00      1      Low  \n",
       "4519    tamil nadu      dindigul 2013-01-01 07:46:00      1     High  \n",
       "12592      gujarat      junagadh 2013-01-04 14:36:00      1  drought  \n",
       "19606      gujarat      junagadh 2013-01-05 19:43:00      1      Low  "
      ]
     },
     "execution_count": 41,
     "metadata": {},
     "output_type": "execute_result"
    }
   ],
   "source": [
    "data3.head()"
   ]
  },
  {
   "cell_type": "markdown",
   "metadata": {},
   "source": [
    "### Label Encoding the Categorical Features"
   ]
  },
  {
   "cell_type": "code",
   "execution_count": 42,
   "metadata": {},
   "outputs": [],
   "source": [
    "from sklearn import preprocessing \n",
    "  \n",
    "# label_encoder object knows how to understand word labels. \n",
    "lb_make = preprocessing.LabelEncoder() \n",
    "  \n",
    "# Encode labels in columns \n",
    "\n",
    "data3['query_typ_Code'] = lb_make.fit_transform(data3['query_type'])\n",
    "data3['query_text_raw_Code'] = lb_make.fit_transform(data3['query_text_raw'])\n",
    "data3['state_name_Code'] = lb_make.fit_transform(data3['state_name'])\n",
    "data3['district_name_Code'] = lb_make.fit_transform(data3['district_name'])\n",
    "data3['state_name_Code'] = lb_make.fit_transform(data3['state_name'])\n",
    "data3['rain_bin_Code'] = lb_make.fit_transform(data3['rain_bin'])"
   ]
  },
  {
   "cell_type": "code",
   "execution_count": 43,
   "metadata": {},
   "outputs": [],
   "source": [
    "col=[\"query_type\",\"query_text_raw\",\"state_name\",\"district_name\",\"date\",\"month\",\"rain_bin\"]\n",
    "data3.drop(col,axis=1,inplace=True)"
   ]
  },
  {
   "cell_type": "markdown",
   "metadata": {},
   "source": [
    "### train test split"
   ]
  },
  {
   "cell_type": "code",
   "execution_count": 44,
   "metadata": {},
   "outputs": [],
   "source": [
    "y=data3[\"query_typ_Code\"]\n",
    "X=data3.drop(\"query_typ_Code\",axis=1)"
   ]
  },
  {
   "cell_type": "code",
   "execution_count": 45,
   "metadata": {},
   "outputs": [
    {
     "data": {
      "text/html": [
       "<div>\n",
       "<style scoped>\n",
       "    .dataframe tbody tr th:only-of-type {\n",
       "        vertical-align: middle;\n",
       "    }\n",
       "\n",
       "    .dataframe tbody tr th {\n",
       "        vertical-align: top;\n",
       "    }\n",
       "\n",
       "    .dataframe thead th {\n",
       "        text-align: right;\n",
       "    }\n",
       "</style>\n",
       "<table border=\"1\" class=\"dataframe\">\n",
       "  <thead>\n",
       "    <tr style=\"text-align: right;\">\n",
       "      <th></th>\n",
       "      <th>query_typ_Code</th>\n",
       "      <th>query_text_raw_Code</th>\n",
       "      <th>state_name_Code</th>\n",
       "      <th>district_name_Code</th>\n",
       "      <th>rain_bin_Code</th>\n",
       "    </tr>\n",
       "  </thead>\n",
       "  <tbody>\n",
       "    <tr>\n",
       "      <th>58119</th>\n",
       "      <td>3</td>\n",
       "      <td>6778</td>\n",
       "      <td>5</td>\n",
       "      <td>45</td>\n",
       "      <td>4</td>\n",
       "    </tr>\n",
       "    <tr>\n",
       "      <th>65959</th>\n",
       "      <td>3</td>\n",
       "      <td>6825</td>\n",
       "      <td>5</td>\n",
       "      <td>231</td>\n",
       "      <td>2</td>\n",
       "    </tr>\n",
       "    <tr>\n",
       "      <th>4519</th>\n",
       "      <td>3</td>\n",
       "      <td>6938</td>\n",
       "      <td>7</td>\n",
       "      <td>67</td>\n",
       "      <td>1</td>\n",
       "    </tr>\n",
       "    <tr>\n",
       "      <th>12592</th>\n",
       "      <td>2</td>\n",
       "      <td>901</td>\n",
       "      <td>1</td>\n",
       "      <td>106</td>\n",
       "      <td>4</td>\n",
       "    </tr>\n",
       "    <tr>\n",
       "      <th>19606</th>\n",
       "      <td>2</td>\n",
       "      <td>9612</td>\n",
       "      <td>1</td>\n",
       "      <td>106</td>\n",
       "      <td>2</td>\n",
       "    </tr>\n",
       "  </tbody>\n",
       "</table>\n",
       "</div>"
      ],
      "text/plain": [
       "       query_typ_Code  query_text_raw_Code  state_name_Code  \\\n",
       "58119               3                 6778                5   \n",
       "65959               3                 6825                5   \n",
       "4519                3                 6938                7   \n",
       "12592               2                  901                1   \n",
       "19606               2                 9612                1   \n",
       "\n",
       "       district_name_Code  rain_bin_Code  \n",
       "58119                  45              4  \n",
       "65959                 231              2  \n",
       "4519                   67              1  \n",
       "12592                 106              4  \n",
       "19606                 106              2  "
      ]
     },
     "execution_count": 45,
     "metadata": {},
     "output_type": "execute_result"
    }
   ],
   "source": [
    "data3.head()"
   ]
  },
  {
   "cell_type": "code",
   "execution_count": 46,
   "metadata": {},
   "outputs": [],
   "source": [
    "from sklearn.model_selection import train_test_split\n",
    "from sklearn.metrics import classification_report\n",
    "X_train, X_test, y_train, y_test = train_test_split(X,y, test_size = 0.2, random_state=123)"
   ]
  },
  {
   "cell_type": "markdown",
   "metadata": {},
   "source": [
    "### Feature Scaling of Training and Testing Data"
   ]
  },
  {
   "cell_type": "code",
   "execution_count": 47,
   "metadata": {},
   "outputs": [],
   "source": [
    "X_Train = preprocessing.scale(X_train)\n",
    "X_Test = preprocessing.scale(X_test)"
   ]
  },
  {
   "cell_type": "markdown",
   "metadata": {},
   "source": [
    "### Fitting data into Decision Tree Classifier Model"
   ]
  },
  {
   "cell_type": "code",
   "execution_count": 48,
   "metadata": {},
   "outputs": [
    {
     "data": {
      "text/plain": [
       "DecisionTreeClassifier(class_weight=None, criterion='gini', max_depth=3,\n",
       "                       max_features=None, max_leaf_nodes=None,\n",
       "                       min_impurity_decrease=0.0, min_impurity_split=None,\n",
       "                       min_samples_leaf=5, min_samples_split=2,\n",
       "                       min_weight_fraction_leaf=0.0, presort=False,\n",
       "                       random_state=100, splitter='best')"
      ]
     },
     "execution_count": 48,
     "metadata": {},
     "output_type": "execute_result"
    }
   ],
   "source": [
    "from sklearn.tree import DecisionTreeClassifier\n",
    "clf_gini = DecisionTreeClassifier(criterion = \"gini\", random_state = 100, max_depth=3, min_samples_leaf=5)\n",
    "clf_gini.fit(X_train, y_train)"
   ]
  },
  {
   "cell_type": "markdown",
   "metadata": {},
   "source": [
    "### Predicting with Test Data"
   ]
  },
  {
   "cell_type": "code",
   "execution_count": 49,
   "metadata": {},
   "outputs": [],
   "source": [
    "y_pred = clf_gini.predict(X_test)"
   ]
  },
  {
   "cell_type": "markdown",
   "metadata": {},
   "source": [
    "### Evaluating the Classifier"
   ]
  },
  {
   "cell_type": "code",
   "execution_count": 50,
   "metadata": {},
   "outputs": [
    {
     "name": "stdout",
     "output_type": "stream",
     "text": [
      "[[   0    0    0    0    0   10    0  369    0    0]\n",
      " [   0    0    0    0    0   11    0  951    0    1]\n",
      " [   0    0    0    0    0   14    0  989    0    1]\n",
      " [   0    0    0    0    0  122    0 1641    0    0]\n",
      " [   0    0    0    0    0   18    0  503    0    0]\n",
      " [   0    0    0    0    0 1635    0  152    0    0]\n",
      " [   0    0    0    0    0   64    0  943    0    1]\n",
      " [   0    0    0    0    0  339    0 8432    0    4]\n",
      " [   0    0    0    0    0   14    0  875    0   64]\n",
      " [   0    0    0    0    0    0    0  797    0  265]]\n",
      "              precision    recall  f1-score   support\n",
      "\n",
      "           0       0.00      0.00      0.00       379\n",
      "           1       0.00      0.00      0.00       963\n",
      "           2       0.00      0.00      0.00      1004\n",
      "           3       0.00      0.00      0.00      1763\n",
      "           4       0.00      0.00      0.00       521\n",
      "           5       0.73      0.91      0.81      1787\n",
      "           6       0.00      0.00      0.00      1008\n",
      "           7       0.54      0.96      0.69      8775\n",
      "           8       0.00      0.00      0.00       953\n",
      "           9       0.79      0.25      0.38      1062\n",
      "\n",
      "    accuracy                           0.57     18215\n",
      "   macro avg       0.21      0.21      0.19     18215\n",
      "weighted avg       0.38      0.57      0.43     18215\n",
      "\n"
     ]
    }
   ],
   "source": [
    "from sklearn.metrics import classification_report, confusion_matrix \n",
    "print(confusion_matrix(y_test,y_pred))  \n",
    "print(classification_report(y_test,y_pred))"
   ]
  },
  {
   "cell_type": "code",
   "execution_count": 51,
   "metadata": {},
   "outputs": [],
   "source": [
    "y_pred = clf_gini.predict(X_train)"
   ]
  },
  {
   "cell_type": "code",
   "execution_count": 52,
   "metadata": {},
   "outputs": [
    {
     "name": "stdout",
     "output_type": "stream",
     "text": [
      "              precision    recall  f1-score   support\n",
      "\n",
      "           0       0.00      0.00      0.00      1426\n",
      "           1       0.00      0.00      0.00      3884\n",
      "           2       0.00      0.00      0.00      4064\n",
      "           3       0.00      0.00      0.00      7131\n",
      "           4       0.00      0.00      0.00      1952\n",
      "           5       0.74      0.93      0.83      7293\n",
      "           6       0.00      0.00      0.00      3822\n",
      "           7       0.54      0.96      0.69     35194\n",
      "           8       0.00      0.00      0.00      3668\n",
      "           9       0.78      0.24      0.37      4425\n",
      "\n",
      "    accuracy                           0.57     72859\n",
      "   macro avg       0.21      0.21      0.19     72859\n",
      "weighted avg       0.38      0.57      0.44     72859\n",
      "\n"
     ]
    }
   ],
   "source": [
    "from sklearn.metrics import classification_report, confusion_matrix   \n",
    "print(classification_report(y_train,y_pred))"
   ]
  },
  {
   "cell_type": "code",
   "execution_count": 57,
   "metadata": {},
   "outputs": [
    {
     "name": "stdout",
     "output_type": "stream",
     "text": [
      "Collecting lightgbm\n",
      "  Downloading https://files.pythonhosted.org/packages/1f/cb/a8ec24334c35a7d0c87b4e4e056bd2137573c7c1bd81c760b79a2f370254/lightgbm-2.3.1-py2.py3-none-win_amd64.whl (544kB)\n",
      "Requirement already satisfied: scipy in c:\\users\\ravi\\anaconda3\\lib\\site-packages (from lightgbm) (1.1.0)\n",
      "Requirement already satisfied: scikit-learn in c:\\users\\ravi\\anaconda3\\lib\\site-packages (from lightgbm) (0.21.3)\n",
      "Requirement already satisfied: numpy in c:\\users\\ravi\\anaconda3\\lib\\site-packages (from lightgbm) (1.17.2)\n",
      "Requirement already satisfied: joblib>=0.11 in c:\\users\\ravi\\anaconda3\\lib\\site-packages (from scikit-learn->lightgbm) (0.14.0)\n",
      "Installing collected packages: lightgbm\n",
      "Successfully installed lightgbm-2.3.1\n"
     ]
    },
    {
     "name": "stderr",
     "output_type": "stream",
     "text": [
      "WARNING: You are using pip version 19.2.3, however version 20.0.1 is available.\n",
      "You should consider upgrading via the 'python -m pip install --upgrade pip' command.\n"
     ]
    }
   ],
   "source": [
    "#!pip install lightgbm"
   ]
  },
  {
   "cell_type": "code",
   "execution_count": 78,
   "metadata": {},
   "outputs": [],
   "source": [
    "import random\n",
    "import lightgbm as lgb\n",
    "\n",
    "# Evaluation of the model\n",
    "from sklearn.model_selection import KFold\n",
    "MAX_EVALS = 500\n",
    "N_FOLDS = 10"
   ]
  },
  {
   "cell_type": "code",
   "execution_count": 59,
   "metadata": {},
   "outputs": [
    {
     "data": {
      "text/plain": [
       "LGBMClassifier(boosting_type='gbdt', class_weight=None, colsample_bytree=1.0,\n",
       "               importance_type='split', learning_rate=0.1, max_depth=-1,\n",
       "               min_child_samples=20, min_child_weight=0.001, min_split_gain=0.0,\n",
       "               n_estimators=100, n_jobs=-1, num_leaves=31, objective=None,\n",
       "               random_state=None, reg_alpha=0.0, reg_lambda=0.0, silent=True,\n",
       "               subsample=1.0, subsample_for_bin=200000, subsample_freq=0)"
      ]
     },
     "execution_count": 59,
     "metadata": {},
     "output_type": "execute_result"
    }
   ],
   "source": [
    "model = lgb.LGBMClassifier()\n",
    "model"
   ]
  },
  {
   "cell_type": "code",
   "execution_count": 60,
   "metadata": {},
   "outputs": [],
   "source": [
    "param_grid = {\n",
    "    'class_weight': [None, 'balanced'],\n",
    "    'boosting_type': ['gbdt', 'goss', 'dart'],\n",
    "    'num_leaves': list(range(30, 150)),\n",
    "    'learning_rate': list(np.logspace(np.log(0.005), np.log(0.2), base = np.exp(1), num = 1000)),\n",
    "    'subsample_for_bin': list(range(20000, 300000, 20000)),\n",
    "    'min_child_samples': list(range(20, 500, 5)),\n",
    "    'reg_alpha': list(np.linspace(0, 1)),\n",
    "    'reg_lambda': list(np.linspace(0, 1)),\n",
    "    'colsample_bytree': list(np.linspace(0.6, 1, 10))\n",
    "}\n",
    "\n",
    "# Subsampling (only applicable with 'goss')\n",
    "subsample_dist = list(np.linspace(0.5, 1, 100))"
   ]
  },
  {
   "cell_type": "code",
   "execution_count": 61,
   "metadata": {},
   "outputs": [
    {
     "data": {
      "image/png": "[encoded data removed]",
      "text/plain": [
       "<Figure size 432x288 with 1 Axes>"
      ]
     },
     "metadata": {},
     "output_type": "display_data"
    }
   ],
   "source": [
    "plt.hist(param_grid['learning_rate'], color = 'r', edgecolor = 'k');\n",
    "plt.xlabel('Learning Rate', size = 14); plt.ylabel('Count', size = 14); plt.title('Learning Rate Distribution', size = 18);"
   ]
  },
  {
   "cell_type": "code",
   "execution_count": 62,
   "metadata": {},
   "outputs": [
    {
     "data": {
      "image/png": "[encoded data removed]",
      "text/plain": [
       "<Figure size 432x288 with 1 Axes>"
      ]
     },
     "metadata": {},
     "output_type": "display_data"
    }
   ],
   "source": [
    "plt.hist(param_grid['num_leaves'], color = 'm', edgecolor = 'k')\n",
    "plt.xlabel('Learning Number of Leaves', size = 14); plt.ylabel('Count', size = 14); plt.title('Number of Leaves Distribution', size = 18);"
   ]
  },
  {
   "cell_type": "code",
   "execution_count": 63,
   "metadata": {},
   "outputs": [
    {
     "data": {
      "text/plain": [
       "{'class_weight': 'balanced',\n",
       " 'boosting_type': 'goss',\n",
       " 'num_leaves': 61,\n",
       " 'learning_rate': 0.053323470492027424,\n",
       " 'subsample_for_bin': 60000,\n",
       " 'min_child_samples': 460,\n",
       " 'reg_alpha': 0.8979591836734693,\n",
       " 'reg_lambda': 0.42857142857142855,\n",
       " 'colsample_bytree': 0.7333333333333333}"
      ]
     },
     "execution_count": 63,
     "metadata": {},
     "output_type": "execute_result"
    }
   ],
   "source": [
    "params = {key: random.sample(value, 1)[0] for key, value in param_grid.items()}\n",
    "params"
   ]
  },
  {
   "cell_type": "code",
   "execution_count": 64,
   "metadata": {},
   "outputs": [
    {
     "data": {
      "text/plain": [
       "{'class_weight': 'balanced',\n",
       " 'boosting_type': 'goss',\n",
       " 'num_leaves': 61,\n",
       " 'learning_rate': 0.053323470492027424,\n",
       " 'subsample_for_bin': 60000,\n",
       " 'min_child_samples': 460,\n",
       " 'reg_alpha': 0.8979591836734693,\n",
       " 'reg_lambda': 0.42857142857142855,\n",
       " 'colsample_bytree': 0.7333333333333333,\n",
       " 'subsample': 1.0}"
      ]
     },
     "execution_count": 64,
     "metadata": {},
     "output_type": "execute_result"
    }
   ],
   "source": [
    "params['subsample'] = random.sample(subsample_dist, 1)[0] if params['boosting_type'] != 'goss' else 1.0\n",
    "params"
   ]
  },
  {
   "cell_type": "code",
   "execution_count": 75,
   "metadata": {},
   "outputs": [],
   "source": [
    "# Create a lgb dataset\n",
    "train_set = lgb.Dataset(data3)"
   ]
  },
  {
   "cell_type": "code",
   "execution_count": 76,
   "metadata": {},
   "outputs": [
    {
     "name": "stdout",
     "output_type": "stream",
     "text": [
      "The maximium ROC AUC on the validation set was 1.00000 with std of 0.00000.\n",
      "The ideal number of iterations was 1.\n"
     ]
    }
   ],
   "source": [
    "r = lgb.cv(params, train_set, num_boost_round = 10000, nfold = 10, metrics = 'auc', \n",
    "           early_stopping_rounds = 100, verbose_eval = False, seed = 50)\n",
    "\n",
    "# Highest score\n",
    "r_best = np.max(r['auc-mean'])\n",
    "\n",
    "# Standard deviation of best score\n",
    "r_best_std = r['auc-stdv'][np.argmax(r['auc-mean'])]\n",
    "\n",
    "print('The maximium ROC AUC on the validation set was {:.5f} with std of {:.5f}.'.format(r_best, r_best_std))\n",
    "print('The ideal number of iterations was {}.'.format(np.argmax(r['auc-mean']) + 1))"
   ]
  },
  {
   "cell_type": "code",
   "execution_count": 79,
   "metadata": {},
   "outputs": [],
   "source": [
    "random_results = pd.DataFrame(columns = ['loss', 'params', 'iteration', 'estimators', 'time'],\n",
    "                       index = list(range(MAX_EVALS)))"
   ]
  },
  {
   "cell_type": "code",
   "execution_count": 80,
   "metadata": {},
   "outputs": [],
   "source": [
    "def random_objective(params, iteration, n_folds = N_FOLDS):\n",
    "    \"\"\"Random search objective function. Takes in hyperparameters\n",
    "       and returns a list of results to be saved.\"\"\"\n",
    "\n",
    "    start = timer()\n",
    "    \n",
    "    # Perform n_folds cross validation\n",
    "    cv_results = lgb.cv(params, train_set, num_boost_round = 10000, nfold = n_folds, \n",
    "                        early_stopping_rounds = 100, metrics = 'auc', seed = 50)\n",
    "    end = timer()\n",
    "    best_score = np.max(cv_results['auc-mean'])\n",
    "    \n",
    "    # Loss must be minimized\n",
    "    loss = 1 - best_score\n",
    "    \n",
    "    # Boosting rounds that returned the highest cv score\n",
    "    n_estimators = int(np.argmax(cv_results['auc-mean']) + 1)\n",
    "    \n",
    "    # Return list of results\n",
    "    return [loss, params, iteration, n_estimators, end - start]"
   ]
  },
  {
   "cell_type": "code",
   "execution_count": 83,
   "metadata": {},
   "outputs": [
    {
     "name": "stdout",
     "output_type": "stream",
     "text": [
      "{'class_weight': 'balanced', 'boosting_type': 'goss', 'num_leaves': 76, 'learning_rate': 0.055533968216953146, 'subsample_for_bin': 80000, 'min_child_samples': 460, 'reg_alpha': 0.6122448979591836, 'reg_lambda': 1.0, 'colsample_bytree': 0.8222222222222222}\n"
     ]
    },
    {
     "ename": "NameError",
     "evalue": "name 'timer' is not defined",
     "output_type": "error",
     "traceback": [
      "\u001b[1;31m---------------------------------------------------------------------------\u001b[0m",
      "\u001b[1;31mNameError\u001b[0m                                 Traceback (most recent call last)",
      "\u001b[1;32m<ipython-input-83-94ceb9525fc3>\u001b[0m in \u001b[0;36m<module>\u001b[1;34m()\u001b[0m\n\u001b[0;32m     19\u001b[0m \u001b[1;33m\u001b[0m\u001b[0m\n\u001b[0;32m     20\u001b[0m \u001b[1;33m\u001b[0m\u001b[0m\n\u001b[1;32m---> 21\u001b[1;33m     \u001b[0mresults_list\u001b[0m \u001b[1;33m=\u001b[0m \u001b[0mrandom_objective\u001b[0m\u001b[1;33m(\u001b[0m\u001b[0mparams\u001b[0m\u001b[1;33m,\u001b[0m \u001b[0mi\u001b[0m\u001b[1;33m)\u001b[0m\u001b[1;33m\u001b[0m\u001b[0m\n\u001b[0m\u001b[0;32m     22\u001b[0m \u001b[1;33m\u001b[0m\u001b[0m\n\u001b[0;32m     23\u001b[0m     \u001b[1;31m# Add results to next row in dataframe\u001b[0m\u001b[1;33m\u001b[0m\u001b[1;33m\u001b[0m\u001b[0m\n",
      "\u001b[1;32m<ipython-input-80-060262a0c5a6>\u001b[0m in \u001b[0;36mrandom_objective\u001b[1;34m(params, iteration, n_folds)\u001b[0m\n\u001b[0;32m      3\u001b[0m        and returns a list of results to be saved.\"\"\"\n\u001b[0;32m      4\u001b[0m \u001b[1;33m\u001b[0m\u001b[0m\n\u001b[1;32m----> 5\u001b[1;33m     \u001b[0mstart\u001b[0m \u001b[1;33m=\u001b[0m \u001b[0mtimer\u001b[0m\u001b[1;33m(\u001b[0m\u001b[1;33m)\u001b[0m\u001b[1;33m\u001b[0m\u001b[0m\n\u001b[0m\u001b[0;32m      6\u001b[0m \u001b[1;33m\u001b[0m\u001b[0m\n\u001b[0;32m      7\u001b[0m     \u001b[1;31m# Perform n_folds cross validation\u001b[0m\u001b[1;33m\u001b[0m\u001b[1;33m\u001b[0m\u001b[0m\n",
      "\u001b[1;31mNameError\u001b[0m: name 'timer' is not defined"
     ]
    }
   ],
   "source": [
    "#%%capture\n",
    "\n",
    "random.seed(50)\n",
    "\n",
    "# Iterate through the specified number of evaluations\n",
    "for i in range(MAX_EVALS):\n",
    "    \n",
    "    # Randomly sample parameters for gbm\n",
    "    params = {key: random.sample(value, 1)[0] for key, value in param_grid.items()}\n",
    "    \n",
    "    print(params)\n",
    "    \n",
    "    if params['boosting_type'] == 'goss':\n",
    "        # Cannot subsample with goss\n",
    "        params['subsample'] = 1.0\n",
    "    else:\n",
    "        # Subsample supported for gdbt and dart\n",
    "        params['subsample'] = random.sample(subsample_dist, 1)[0]\n",
    "        \n",
    "        \n",
    "    results_list = random_objective(params, i)\n",
    "    \n",
    "    # Add results to next row in dataframe\n",
    "    random_results.loc[i, :] = results_list\n"
   ]
  },
  {
   "cell_type": "code",
   "execution_count": null,
   "metadata": {},
   "outputs": [],
   "source": []
  }
 ],
 "metadata": {
  "kernelspec": {
   "display_name": "Python 3",
   "language": "python",
   "name": "python3"
  },
  "language_info": {
   "codemirror_mode": {
    "name": "ipython",
    "version": 3
   },
   "file_extension": ".py",
   "mimetype": "text/x-python",
   "name": "python",
   "nbconvert_exporter": "python",
   "pygments_lexer": "ipython3",
   "version": "3.6.5"
  }
 },
 "nbformat": 4,
 "nbformat_minor": 2
}
